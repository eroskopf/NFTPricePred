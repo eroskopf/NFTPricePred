{
 "cells": [
  {
   "cell_type": "code",
   "execution_count": 2,
   "id": "7a8c49c7",
   "metadata": {},
   "outputs": [],
   "source": []
  },
  {
   "cell_type": "code",
   "execution_count": 1,
   "id": "5cb46535",
   "metadata": {},
   "outputs": [],
   "source": [
    "import matplotlib.pyplot as plt\n",
    "import sklearn\n",
    "import seaborn as sns\n",
    "import pandas as pd\n",
    "import os\n",
    "import numpy as np\n",
    "import scipy.stats as stats\n",
    "import tensorflow as tf\n",
    "from datetime import datetime, timedelta\n",
    "import wandb\n",
    "from wandb.keras import WandbCallback\n",
    "import graphviz"
   ]
  },
  {
   "cell_type": "code",
   "execution_count": 2,
   "id": "47e27046",
   "metadata": {},
   "outputs": [
    {
     "name": "stderr",
     "output_type": "stream",
     "text": [
      "\u001b[34m\u001b[1mwandb\u001b[0m: Currently logged in as: \u001b[33memchro\u001b[0m. Use \u001b[1m`wandb login --relogin`\u001b[0m to force relogin\n"
     ]
    },
    {
     "data": {
      "text/html": [
       "wandb version 0.13.6 is available!  To upgrade, please run:\n",
       " $ pip install wandb --upgrade"
      ],
      "text/plain": [
       "<IPython.core.display.HTML object>"
      ]
     },
     "metadata": {},
     "output_type": "display_data"
    },
    {
     "data": {
      "text/html": [
       "Tracking run with wandb version 0.13.5"
      ],
      "text/plain": [
       "<IPython.core.display.HTML object>"
      ]
     },
     "metadata": {},
     "output_type": "display_data"
    },
    {
     "data": {
      "text/html": [
       "Run data is saved locally in <code>C:\\Users\\aitbudapest\\OneDrive\\Documents\\GitHub\\NFTPricePred\\analysis\\wandb\\run-20221210_184659-ozsum60k</code>"
      ],
      "text/plain": [
       "<IPython.core.display.HTML object>"
      ]
     },
     "metadata": {},
     "output_type": "display_data"
    },
    {
     "data": {
      "text/html": [
       "Syncing run <strong><a href=\"https://wandb.ai/emchro/NFT-prediction/runs/ozsum60k\" target=\"_blank\">chocolate-dream-7</a></strong> to <a href=\"https://wandb.ai/emchro/NFT-prediction\" target=\"_blank\">Weights & Biases</a> (<a href=\"https://wandb.me/run\" target=\"_blank\">docs</a>)<br/>"
      ],
      "text/plain": [
       "<IPython.core.display.HTML object>"
      ]
     },
     "metadata": {},
     "output_type": "display_data"
    },
    {
     "data": {
      "text/html": [
       "<button onClick=\"this.nextSibling.style.display='block';this.style.display='none';\">Display W&B run</button><iframe src=\"https://wandb.ai/emchro/NFT-prediction/runs/ozsum60k?jupyter=true\" style=\"border:none;width:100%;height:420px;display:none;\"></iframe>"
      ],
      "text/plain": [
       "<wandb.sdk.wandb_run.Run at 0x1cc73970610>"
      ]
     },
     "execution_count": 2,
     "metadata": {},
     "output_type": "execute_result"
    }
   ],
   "source": [
    "wandb.init(project=\"NFT-prediction\")\n"
   ]
  },
  {
   "cell_type": "code",
   "execution_count": 3,
   "id": "330434d3",
   "metadata": {},
   "outputs": [],
   "source": [
    "wandb.config = {\n",
    "  \"learning_rate\": 0.01,\n",
    "  \"epochs\": 25,\n",
    "  \"batch_size\": 32\n",
    "}"
   ]
  },
  {
   "cell_type": "code",
   "execution_count": 4,
   "id": "db639f10",
   "metadata": {},
   "outputs": [
    {
     "data": {
      "text/html": [
       "<div>\n",
       "<style scoped>\n",
       "    .dataframe tbody tr th:only-of-type {\n",
       "        vertical-align: middle;\n",
       "    }\n",
       "\n",
       "    .dataframe tbody tr th {\n",
       "        vertical-align: top;\n",
       "    }\n",
       "\n",
       "    .dataframe thead th {\n",
       "        text-align: right;\n",
       "    }\n",
       "</style>\n",
       "<table border=\"1\" class=\"dataframe\">\n",
       "  <thead>\n",
       "    <tr style=\"text-align: right;\">\n",
       "      <th></th>\n",
       "      <th>Number_of_sales</th>\n",
       "      <th>Active_markets_wallets</th>\n",
       "      <th>Primary_sales</th>\n",
       "      <th>ETH_high_price</th>\n",
       "      <th>Sales_USD</th>\n",
       "    </tr>\n",
       "    <tr>\n",
       "      <th>Date</th>\n",
       "      <th></th>\n",
       "      <th></th>\n",
       "      <th></th>\n",
       "      <th></th>\n",
       "      <th></th>\n",
       "    </tr>\n",
       "  </thead>\n",
       "  <tbody>\n",
       "    <tr>\n",
       "      <th>2017-11-09</th>\n",
       "      <td>148.270004</td>\n",
       "      <td>2.0</td>\n",
       "      <td>0.0</td>\n",
       "      <td>0.0</td>\n",
       "      <td>329.451996</td>\n",
       "    </tr>\n",
       "    <tr>\n",
       "      <th>2017-11-10</th>\n",
       "      <td>0.000000</td>\n",
       "      <td>0.0</td>\n",
       "      <td>0.0</td>\n",
       "      <td>0.0</td>\n",
       "      <td>324.717987</td>\n",
       "    </tr>\n",
       "    <tr>\n",
       "      <th>2017-11-11</th>\n",
       "      <td>0.000000</td>\n",
       "      <td>0.0</td>\n",
       "      <td>0.0</td>\n",
       "      <td>0.0</td>\n",
       "      <td>319.453003</td>\n",
       "    </tr>\n",
       "    <tr>\n",
       "      <th>2017-11-12</th>\n",
       "      <td>91.110001</td>\n",
       "      <td>1.0</td>\n",
       "      <td>0.0</td>\n",
       "      <td>0.0</td>\n",
       "      <td>319.153015</td>\n",
       "    </tr>\n",
       "    <tr>\n",
       "      <th>2017-11-13</th>\n",
       "      <td>63.070000</td>\n",
       "      <td>2.0</td>\n",
       "      <td>2.0</td>\n",
       "      <td>0.0</td>\n",
       "      <td>328.415009</td>\n",
       "    </tr>\n",
       "  </tbody>\n",
       "</table>\n",
       "</div>"
      ],
      "text/plain": [
       "            Number_of_sales  Active_markets_wallets  Primary_sales  \\\n",
       "Date                                                                 \n",
       "2017-11-09       148.270004                     2.0            0.0   \n",
       "2017-11-10         0.000000                     0.0            0.0   \n",
       "2017-11-11         0.000000                     0.0            0.0   \n",
       "2017-11-12        91.110001                     1.0            0.0   \n",
       "2017-11-13        63.070000                     2.0            2.0   \n",
       "\n",
       "            ETH_high_price   Sales_USD  \n",
       "Date                                    \n",
       "2017-11-09             0.0  329.451996  \n",
       "2017-11-10             0.0  324.717987  \n",
       "2017-11-11             0.0  319.453003  \n",
       "2017-11-12             0.0  319.153015  \n",
       "2017-11-13             0.0  328.415009  "
      ]
     },
     "execution_count": 4,
     "metadata": {},
     "output_type": "execute_result"
    }
   ],
   "source": [
    "f = open(\"../data/prediction.csv\", 'r')\n",
    "pred = pd.read_csv(f)\n",
    "del pred['Unnamed: 0']\n",
    "pred[\"Date\"] = pd.to_datetime(pred['Date'], format='%Y-%m-%d')\n",
    "pred = pred.astype({'Number_of_sales':'float32','Active_markets_wallets':'float32','Primary_sales':'float32','ETH_high_price':'float32'})\n",
    "pred = pred.set_index(\"Date\")\n",
    "pred.head()\n"
   ]
  },
  {
   "cell_type": "code",
   "execution_count": 6,
   "id": "f846e9ea",
   "metadata": {},
   "outputs": [],
   "source": [
    "#only predict one variable\n",
    "#calculate accuracy based on that"
   ]
  },
  {
   "cell_type": "code",
   "execution_count": 5,
   "id": "6888a165",
   "metadata": {},
   "outputs": [
    {
     "data": {
      "text/plain": [
       "Number_of_sales           0\n",
       "Active_markets_wallets    0\n",
       "Primary_sales             8\n",
       "ETH_high_price            0\n",
       "Sales_USD                 0\n",
       "dtype: int64"
      ]
     },
     "execution_count": 5,
     "metadata": {},
     "output_type": "execute_result"
    }
   ],
   "source": [
    "pred = pred.replace('?', np.nan)\n",
    "pred = pred.replace('null', np.nan)\n",
    "\n",
    "def fill_missing(values):\n",
    "    for row in range(pred.shape[0]):\n",
    "        for col in range(pred.shape[1]):\n",
    "            if (values[row][col] == np.nan):\n",
    "                values[row,col] = values[row-1, col]\n",
    "pred.isnull().sum()"
   ]
  },
  {
   "cell_type": "code",
   "execution_count": 13,
   "id": "e14d51fc",
   "metadata": {},
   "outputs": [],
   "source": [
    "\n",
    "fill_missing(pred.values)\n",
    "pred.isnull().sum()\n",
    "for i in range(pred.shape[0]):\n",
    "    if (type(pred.iloc[i][\"Active_markets_wallets\"]) != np.float64):\n",
    "        print(i)\n"
   ]
  },
  {
   "cell_type": "code",
   "execution_count": 8,
   "id": "96f002db",
   "metadata": {},
   "outputs": [
    {
     "name": "stderr",
     "output_type": "stream",
     "text": [
      "C:\\Users\\aitbudapest\\AppData\\Local\\Temp\\ipykernel_19396\\2930816559.py:18: SettingWithCopyWarning: \n",
      "A value is trying to be set on a copy of a slice from a DataFrame.\n",
      "Try using .loc[row_indexer,col_indexer] = value instead\n",
      "\n",
      "See the caveats in the documentation: https://pandas.pydata.org/pandas-docs/stable/user_guide/indexing.html#returning-a-view-versus-a-copy\n",
      "  train[i]=s_s\n",
      "C:\\Users\\aitbudapest\\AppData\\Local\\Temp\\ipykernel_19396\\2930816559.py:18: SettingWithCopyWarning: \n",
      "A value is trying to be set on a copy of a slice from a DataFrame.\n",
      "Try using .loc[row_indexer,col_indexer] = value instead\n",
      "\n",
      "See the caveats in the documentation: https://pandas.pydata.org/pandas-docs/stable/user_guide/indexing.html#returning-a-view-versus-a-copy\n",
      "  train[i]=s_s\n",
      "C:\\Users\\aitbudapest\\AppData\\Local\\Temp\\ipykernel_19396\\2930816559.py:18: SettingWithCopyWarning: \n",
      "A value is trying to be set on a copy of a slice from a DataFrame.\n",
      "Try using .loc[row_indexer,col_indexer] = value instead\n",
      "\n",
      "See the caveats in the documentation: https://pandas.pydata.org/pandas-docs/stable/user_guide/indexing.html#returning-a-view-versus-a-copy\n",
      "  train[i]=s_s\n",
      "C:\\Users\\aitbudapest\\AppData\\Local\\Temp\\ipykernel_19396\\2930816559.py:18: SettingWithCopyWarning: \n",
      "A value is trying to be set on a copy of a slice from a DataFrame.\n",
      "Try using .loc[row_indexer,col_indexer] = value instead\n",
      "\n",
      "See the caveats in the documentation: https://pandas.pydata.org/pandas-docs/stable/user_guide/indexing.html#returning-a-view-versus-a-copy\n",
      "  train[i]=s_s\n",
      "C:\\Users\\aitbudapest\\AppData\\Local\\Temp\\ipykernel_19396\\2930816559.py:18: SettingWithCopyWarning: \n",
      "A value is trying to be set on a copy of a slice from a DataFrame.\n",
      "Try using .loc[row_indexer,col_indexer] = value instead\n",
      "\n",
      "See the caveats in the documentation: https://pandas.pydata.org/pandas-docs/stable/user_guide/indexing.html#returning-a-view-versus-a-copy\n",
      "  train[i]=s_s\n",
      "C:\\Users\\aitbudapest\\AppData\\Local\\Temp\\ipykernel_19396\\2930816559.py:29: SettingWithCopyWarning: \n",
      "A value is trying to be set on a copy of a slice from a DataFrame.\n",
      "Try using .loc[row_indexer,col_indexer] = value instead\n",
      "\n",
      "See the caveats in the documentation: https://pandas.pydata.org/pandas-docs/stable/user_guide/indexing.html#returning-a-view-versus-a-copy\n",
      "  test[i]=s_s\n",
      "C:\\Users\\aitbudapest\\AppData\\Local\\Temp\\ipykernel_19396\\2930816559.py:29: SettingWithCopyWarning: \n",
      "A value is trying to be set on a copy of a slice from a DataFrame.\n",
      "Try using .loc[row_indexer,col_indexer] = value instead\n",
      "\n",
      "See the caveats in the documentation: https://pandas.pydata.org/pandas-docs/stable/user_guide/indexing.html#returning-a-view-versus-a-copy\n",
      "  test[i]=s_s\n",
      "C:\\Users\\aitbudapest\\AppData\\Local\\Temp\\ipykernel_19396\\2930816559.py:29: SettingWithCopyWarning: \n",
      "A value is trying to be set on a copy of a slice from a DataFrame.\n",
      "Try using .loc[row_indexer,col_indexer] = value instead\n",
      "\n",
      "See the caveats in the documentation: https://pandas.pydata.org/pandas-docs/stable/user_guide/indexing.html#returning-a-view-versus-a-copy\n",
      "  test[i]=s_s\n",
      "C:\\Users\\aitbudapest\\AppData\\Local\\Temp\\ipykernel_19396\\2930816559.py:29: SettingWithCopyWarning: \n",
      "A value is trying to be set on a copy of a slice from a DataFrame.\n",
      "Try using .loc[row_indexer,col_indexer] = value instead\n",
      "\n",
      "See the caveats in the documentation: https://pandas.pydata.org/pandas-docs/stable/user_guide/indexing.html#returning-a-view-versus-a-copy\n",
      "  test[i]=s_s\n",
      "C:\\Users\\aitbudapest\\AppData\\Local\\Temp\\ipykernel_19396\\2930816559.py:29: SettingWithCopyWarning: \n",
      "A value is trying to be set on a copy of a slice from a DataFrame.\n",
      "Try using .loc[row_indexer,col_indexer] = value instead\n",
      "\n",
      "See the caveats in the documentation: https://pandas.pydata.org/pandas-docs/stable/user_guide/indexing.html#returning-a-view-versus-a-copy\n",
      "  test[i]=s_s\n"
     ]
    }
   ],
   "source": [
    "#75% 25% split\n",
    "# 1466*0.75 = 1099\n",
    "train_df,test_df = pred[1:1099], pred[1099:] \n",
    "\n",
    "from sklearn.preprocessing import MinMaxScaler\n",
    "#min max\n",
    "train = train_df\n",
    "scalers={}\n",
    "for i in train_df.columns:\n",
    "    if (i == \"Date\"):\n",
    "        #skip\n",
    "        print(\"nothing\")\n",
    "    else:\n",
    "        scaler = MinMaxScaler(feature_range=(-1,1))\n",
    "        s_s = scaler.fit_transform(train[i].values.reshape(-1,1))\n",
    "        s_s=np.reshape(s_s,len(s_s))\n",
    "        scalers['scaler_'+ i] = scaler\n",
    "        train[i]=s_s\n",
    "test = test_df\n",
    "for i in train_df.columns:\n",
    "    if (i == \"Date\"):\n",
    "        #skip\n",
    "        print(\"nothing\")\n",
    "    else:\n",
    "        scaler = scalers['scaler_'+i]\n",
    "        s_s = scaler.transform(test[i].values.reshape(-1,1))\n",
    "        s_s=np.reshape(s_s,len(s_s))\n",
    "        scalers['scaler_'+i] = scaler\n",
    "        test[i]=s_s"
   ]
  },
  {
   "cell_type": "code",
   "execution_count": 25,
   "id": "18d405a5",
   "metadata": {},
   "outputs": [],
   "source": [
    "def split_series(df, n_past, n_future):\n",
    "  #\n",
    "  # n_past ==> no of past observations\n",
    "  #\n",
    "  # n_future ==> no of future observations \n",
    "  #\n",
    "  series = df.values\n",
    "  X, y = list(), list()\n",
    "  for window_start in range(len(series)):\n",
    "    past_end = window_start + n_past\n",
    "    future_end = past_end + n_future\n",
    "    if future_end > len(series):\n",
    "      break\n",
    "    # slicing the past and future parts of the window\n",
    "    past, future = df.iloc[window_start:past_end, 0:4], df.iloc[past_end:future_end, 4:]\n",
    "    past = past.values\n",
    "    future = future.values\n",
    "    X.append(past)\n",
    "    y.append(future)\n",
    "  return np.array(X), np.array(y)\n",
    "\n",
    "#use 10 days to predict 5 days into the future\n",
    "n_past = 10\n",
    "n_future = 5 \n",
    "n_features_train = 4\n",
    "n_features_predict=1"
   ]
  },
  {
   "cell_type": "code",
   "execution_count": 26,
   "id": "d0857f9e",
   "metadata": {},
   "outputs": [
    {
     "name": "stdout",
     "output_type": "stream",
     "text": [
      "            Sales_USD\n",
      "Date                 \n",
      "2017-11-11  -0.652536\n",
      "2017-11-12  -0.652981\n"
     ]
    }
   ],
   "source": [
    "temp = train.iloc[1:3, 4:]\n",
    "print(temp)"
   ]
  },
  {
   "cell_type": "code",
   "execution_count": 28,
   "id": "3c31e9de",
   "metadata": {},
   "outputs": [],
   "source": [
    "#split into samples \n",
    "X_train, y_train = split_series(train,n_past, n_future)\n",
    "#print(X_train)\n",
    "#print(y_train)\n",
    "X_train = X_train.reshape((X_train.shape[0], X_train.shape[1],n_features_train))\n",
    "y_train = y_train.reshape((y_train.shape[0], y_train.shape[1], n_features_predict))\n",
    "X_test, y_test = split_series(test,n_past, n_future)\n",
    "X_test = X_test.reshape((X_test.shape[0], X_test.shape[1],n_features_train))\n",
    "y_test = y_test.reshape((y_test.shape[0], y_test.shape[1], n_features_predict))"
   ]
  },
  {
   "cell_type": "code",
   "execution_count": 31,
   "id": "11e847e4",
   "metadata": {},
   "outputs": [
    {
     "name": "stdout",
     "output_type": "stream",
     "text": [
      "Model: \"model\"\n",
      "__________________________________________________________________________________________________\n",
      " Layer (type)                   Output Shape         Param #     Connected to                     \n",
      "==================================================================================================\n",
      " input_2 (InputLayer)           [(None, 10, 4)]      0           []                               \n",
      "                                                                                                  \n",
      " lstm_2 (LSTM)                  [(None, 4),          144         ['input_2[0][0]']                \n",
      "                                 (None, 4),                                                       \n",
      "                                 (None, 4)]                                                       \n",
      "                                                                                                  \n",
      " repeat_vector_1 (RepeatVector)  (None, 5, 4)        0           ['lstm_2[0][0]']                 \n",
      "                                                                                                  \n",
      " lstm_3 (LSTM)                  (None, 5, 4)         144         ['repeat_vector_1[0][0]',        \n",
      "                                                                  'lstm_2[0][1]',                 \n",
      "                                                                  'lstm_2[0][2]']                 \n",
      "                                                                                                  \n",
      " time_distributed (TimeDistribu  (None, 5, 1)        5           ['lstm_3[0][0]']                 \n",
      " ted)                                                                                             \n",
      "                                                                                                  \n",
      "==================================================================================================\n",
      "Total params: 293\n",
      "Trainable params: 293\n",
      "Non-trainable params: 0\n",
      "__________________________________________________________________________________________________\n"
     ]
    }
   ],
   "source": [
    "#Now we will create two models in the below-mentioned architecture.\n",
    "#E1D1 ==> Sequence to Sequence Model with one encoder layer and one decoder layer.\n",
    "\n",
    "# E1D1\n",
    "# n_features ==> no of features at each timestep in the data.\n",
    "#\n",
    "encoder_inputs = tf.keras.layers.Input(shape=(n_past, n_features_train))\n",
    "encoder_l1 = tf.keras.layers.LSTM(4, return_state=True)\n",
    "#reduce to smaller number, dimensionality\n",
    "encoder_outputs1 = encoder_l1(encoder_inputs)\n",
    "\n",
    "encoder_states1 = encoder_outputs1[1:]\n",
    "\n",
    "#\n",
    "decoder_inputs = tf.keras.layers.RepeatVector(n_future)(encoder_outputs1[0])\n",
    "\n",
    "#\n",
    "decoder_l1 = tf.keras.layers.LSTM(4, return_sequences=True)(decoder_inputs,initial_state = encoder_states1)\n",
    "#reduce dimensionality\n",
    "decoder_outputs1 = tf.keras.layers.TimeDistributed(tf.keras.layers.Dense(n_features_predict))(decoder_l1)\n",
    "\n",
    "#\n",
    "model_e1d1 = tf.keras.models.Model(encoder_inputs,decoder_outputs1)\n",
    "\n",
    "#\n",
    "model_e1d1.summary()"
   ]
  },
  {
   "cell_type": "code",
   "execution_count": 33,
   "id": "954891bc",
   "metadata": {},
   "outputs": [
    {
     "name": "stdout",
     "output_type": "stream",
     "text": [
      "Model: \"model_3\"\n",
      "__________________________________________________________________________________________________\n",
      " Layer (type)                   Output Shape         Param #     Connected to                     \n",
      "==================================================================================================\n",
      " input_4 (InputLayer)           [(None, 10, 5)]      0           []                               \n",
      "                                                                                                  \n",
      " lstm_8 (LSTM)                  [(None, 10, 100),    42400       ['input_4[0][0]']                \n",
      "                                 (None, 100),                                                     \n",
      "                                 (None, 100)]                                                     \n",
      "                                                                                                  \n",
      " lstm_9 (LSTM)                  [(None, 100),        80400       ['lstm_8[0][0]']                 \n",
      "                                 (None, 100),                                                     \n",
      "                                 (None, 100)]                                                     \n",
      "                                                                                                  \n",
      " repeat_vector_3 (RepeatVector)  (None, 5, 100)      0           ['lstm_9[0][0]']                 \n",
      "                                                                                                  \n",
      " lstm_10 (LSTM)                 (None, 5, 100)       80400       ['repeat_vector_3[0][0]',        \n",
      "                                                                  'lstm_8[0][1]',                 \n",
      "                                                                  'lstm_8[0][2]']                 \n",
      "                                                                                                  \n",
      " lstm_11 (LSTM)                 (None, 5, 100)       80400       ['lstm_10[0][0]',                \n",
      "                                                                  'lstm_9[0][1]',                 \n",
      "                                                                  'lstm_9[0][2]']                 \n",
      "                                                                                                  \n",
      " time_distributed_3 (TimeDistri  (None, 5, 5)        505         ['lstm_11[0][0]']                \n",
      " buted)                                                                                           \n",
      "                                                                                                  \n",
      "==================================================================================================\n",
      "Total params: 284,105\n",
      "Trainable params: 284,105\n",
      "Non-trainable params: 0\n",
      "__________________________________________________________________________________________________\n"
     ]
    }
   ],
   "source": [
    "#not going to use, worried about overfiting the model\n",
    "\n",
    "#E2D2 ==> Sequence to Sequence Model with two encoder layers and two decoder layers.\n",
    "\n",
    "# E2D2\n",
    "# n_features ==> no of features at each timestep in the data.\n",
    "#\n",
    "encoder_inputs = tf.keras.layers.Input(shape=(n_past, n_features))\n",
    "encoder_l1 = tf.keras.layers.LSTM(100,return_sequences = True, return_state=True)\n",
    "encoder_outputs1 = encoder_l1(encoder_inputs)\n",
    "encoder_states1 = encoder_outputs1[1:]\n",
    "encoder_l2 = tf.keras.layers.LSTM(100, return_state=True)\n",
    "encoder_outputs2 = encoder_l2(encoder_outputs1[0])\n",
    "encoder_states2 = encoder_outputs2[1:]\n",
    "#\n",
    "decoder_inputs = tf.keras.layers.RepeatVector(n_future)(encoder_outputs2[0])\n",
    "#\n",
    "decoder_l1 = tf.keras.layers.LSTM(100, return_sequences=True)(decoder_inputs,initial_state = encoder_states1)\n",
    "decoder_l2 = tf.keras.layers.LSTM(100, return_sequences=True)(decoder_l1,initial_state = encoder_states2)\n",
    "decoder_outputs2 = tf.keras.layers.TimeDistributed(tf.keras.layers.Dense(n_features))(decoder_l2)\n",
    "#\n",
    "model_e2d2 = tf.keras.models.Model(encoder_inputs,decoder_outputs2)\n",
    "#\n",
    "model_e2d2.summary()"
   ]
  },
  {
   "cell_type": "code",
   "execution_count": 36,
   "id": "9018f8da",
   "metadata": {},
   "outputs": [
    {
     "name": "stdout",
     "output_type": "stream",
     "text": [
      "Epoch 1/10\n",
      "1084/1084 [==============================] - 27s 14ms/step - loss: 0.0228 - mean_squared_error: 0.0228 - accuracy: 0.0000e+00 - mean_absolute_error: 0.0816\n",
      "Epoch 2/10\n",
      "1084/1084 [==============================] - 15s 13ms/step - loss: 0.0148 - mean_squared_error: 0.0148 - accuracy: 0.0000e+00 - mean_absolute_error: 0.0663\n",
      "Epoch 3/10\n",
      "1084/1084 [==============================] - 15s 14ms/step - loss: 0.0124 - mean_squared_error: 0.0124 - accuracy: 0.0000e+00 - mean_absolute_error: 0.0612\n",
      "Epoch 4/10\n",
      "1084/1084 [==============================] - 15s 14ms/step - loss: 0.0126 - mean_squared_error: 0.0126 - accuracy: 0.0000e+00 - mean_absolute_error: 0.0595\n",
      "Epoch 5/10\n",
      "1084/1084 [==============================] - 15s 14ms/step - loss: 0.0123 - mean_squared_error: 0.0123 - accuracy: 0.0000e+00 - mean_absolute_error: 0.0589\n",
      "Epoch 6/10\n",
      "1084/1084 [==============================] - 15s 13ms/step - loss: 0.0116 - mean_squared_error: 0.0116 - accuracy: 0.0000e+00 - mean_absolute_error: 0.0572\n",
      "Epoch 7/10\n",
      "1084/1084 [==============================] - 15s 14ms/step - loss: 0.0109 - mean_squared_error: 0.0109 - accuracy: 0.0000e+00 - mean_absolute_error: 0.0542\n",
      "Epoch 8/10\n",
      "1084/1084 [==============================] - 15s 14ms/step - loss: 0.0105 - mean_squared_error: 0.0105 - accuracy: 0.0000e+00 - mean_absolute_error: 0.0540\n",
      "Epoch 9/10\n",
      "1084/1084 [==============================] - 15s 14ms/step - loss: 0.0103 - mean_squared_error: 0.0103 - accuracy: 0.0000e+00 - mean_absolute_error: 0.0531\n",
      "Epoch 10/10\n",
      "1084/1084 [==============================] - 15s 14ms/step - loss: 0.0108 - mean_squared_error: 0.0108 - accuracy: 0.0000e+00 - mean_absolute_error: 0.0542\n"
     ]
    }
   ],
   "source": [
    "#one fit method don't do both\n",
    "history = model_e1d1.fit(X_train, # input data\n",
    "                    y_train, # target data\n",
    "                    batch_size=1, # Number of samples per gradient update. If unspecified, batch_size will default to 32.\n",
    "                    epochs=10, # default=1, Number of epochs to train the model. An epoch is an iteration over the entire x and y data provided\n",
    "                    verbose=1, # default='auto', ('auto', 0, 1, or 2). Verbosity mode. 0 = silent, 1 = progress bar, 2 = one line per epoch. 'auto' defaults to 1 for most cases, but 2 when used with ParameterServerStrategy.\n",
    "                    callbacks=[WandbCallback()], # default=None, list of callbacks to apply during training. See tf.keras.callbacks\n",
    "                    #callbacks=[WandbCallback()]\n",
    "                    validation_split=0.2, # default=0.0, Fraction of the training data to be used as validation data. The model will set apart this fraction of the training data, will not train on it, and will evaluate the loss and any model metrics on this data at the end of each epoch. \n",
    "                    validation_data=(X_test, y_test), # default=None, Data on which to evaluate the loss and any model metrics at the end of each epoch. \n",
    "                    shuffle=True, # default=True, Boolean (whether to shuffle the training data before each epoch) or str (for 'batch').\n",
    "                    class_weight=None, # default=None, Optional dictionary mapping class indices (integers) to a weight (float) value, used for weighting the loss function (during training only). This can be useful to tell the model to \"pay more attention\" to samples from an under-represented class.\n",
    "                    sample_weight=None, # default=None, Optional Numpy array of weights for the training samples, used for weighting the loss function (during training only).\n",
    "                    initial_epoch=0, # Integer, default=0, Epoch at which to start training (useful for resuming a previous training run).\n",
    "                    steps_per_epoch=None, # Integer or None, default=None, Total number of steps (batches of samples) before declaring one epoch finished and starting the next epoch. When training with input tensors such as TensorFlow data tensors, the default None is equal to the number of samples in your dataset divided by the batch size, or 1 if that cannot be determined. \n",
    "                    validation_steps=None, # Only relevant if validation_data is provided and is a tf.data dataset. Total number of steps (batches of samples) to draw before stopping when performing validation at the end of every epoch.\n",
    "                    validation_batch_size=None, # Integer or None, default=None, Number of samples per validation batch. If unspecified, will default to batch_size.\n",
    "                    validation_freq=100, # default=1, Only relevant if validation data is provided. If an integer, specifies how many training epochs to run before a new validation run is performed, e.g. validation_freq=2 runs validation every 2 epochs.\n",
    "                    max_queue_size=10, # default=10, Used for generator or keras.utils.Sequence input only. Maximum size for the generator queue. If unspecified, max_queue_size will default to 10.\n",
    "                    workers=1, # default=1, Used for generator or keras.utils.Sequence input only. Maximum number of processes to spin up when using process-based threading. If unspecified, workers will default to 1.\n",
    "                    use_multiprocessing=True, # default=False, Used for generator or keras.utils.Sequence input only. If True, use process-based threading. If unspecified, use_multiprocessing will default to False. \n",
    "                   )"
   ]
  },
  {
   "cell_type": "code",
   "execution_count": null,
   "id": "a800f501",
   "metadata": {},
   "outputs": [],
   "source": []
  },
  {
   "cell_type": "code",
   "execution_count": 39,
   "id": "e05068b8",
   "metadata": {},
   "outputs": [
    {
     "data": {
      "text/plain": [
       "\"\\nmodel_e2d2.compile(\\n    optimizer='adam',\\n    loss='mean_squared_error',\\n    metrics=[\\n        tf.keras.metrics.MeanSquaredError(),\\n        tf.keras.metrics.Accuracy(),\\n        tf.keras.metrics.MeanAbsoluteError(),\\n    ]\\n)\\n\""
      ]
     },
     "execution_count": 39,
     "metadata": {},
     "output_type": "execute_result"
    }
   ],
   "source": [
    "#fit data other attempt with different metrics\n",
    "#reduce_lr = tf.keras.callbacks.LearningRateScheduler(lambda x: 1e-3 * 0.90 ** x)\n",
    "#model_e1d1.compile(optimizer=tf.keras.optimizers.Adam(), loss=tf.keras.losses.Huber())\n",
    "model_e1d1.compile(\n",
    "    optimizer='adam',\n",
    "    loss='mean_squared_error',\n",
    "    metrics=[\n",
    "        tf.keras.metrics.MeanSquaredError(),\n",
    "        tf.keras.metrics.Accuracy(),\n",
    "        tf.keras.metrics.MeanAbsoluteError(),\n",
    "    ]\n",
    ")\n",
    "#no validation data so i can test accuracy\n",
    "#history_e1d1=model_e1d1.fit(X_train,y_train,epochs=25,batch_size=32,verbose=0,callbacks=[WandbCallback()])\n",
    "history_e1d1=model_e1d1.fit(X_train,y_train,epochs=25,validation_data=(X_test,y_test),batch_size=32,verbose=0,callbacks=[WandbCallback()])\n",
    "#model_e2d2.compile(optimizer=tf.keras.optimizers.Adam(), loss=tf.keras.losses.Huber())\n",
    "'''\n",
    "model_e2d2.compile(\n",
    "    optimizer='adam',\n",
    "    loss='mean_squared_error',\n",
    "    metrics=[\n",
    "        tf.keras.metrics.MeanSquaredError(),\n",
    "        tf.keras.metrics.Accuracy(),\n",
    "        tf.keras.metrics.MeanAbsoluteError(),\n",
    "    ]\n",
    ")\n",
    "'''\n",
    "#history_e2d2=model_e2d2.fit(X_train,y_train,epochs=25,validation_data=(X_test,y_test),batch_size=32,verbose=0,callbacks=[WandbCallback()])"
   ]
  },
  {
   "cell_type": "code",
   "execution_count": 40,
   "id": "4a4d7472",
   "metadata": {},
   "outputs": [
    {
     "name": "stdout",
     "output_type": "stream",
     "text": [
      "12/12 [==============================] - 2s 7ms/step\n",
      "[[[-0.32951403]\n",
      "  [-0.37537125]\n",
      "  [-0.43232712]\n",
      "  [-0.4751667 ]\n",
      "  [-0.4941665 ]]\n",
      "\n",
      " [[-0.27833092]\n",
      "  [-0.33360893]\n",
      "  [-0.39769995]\n",
      "  [-0.44413257]\n",
      "  [-0.46441   ]]\n",
      "\n",
      " [[-0.29115477]\n",
      "  [-0.34155712]\n",
      "  [-0.39800525]\n",
      "  [-0.44421533]\n",
      "  [-0.47777224]]\n",
      "\n",
      " ...\n",
      "\n",
      " [[        nan]\n",
      "  [        nan]\n",
      "  [        nan]\n",
      "  [        nan]\n",
      "  [        nan]]\n",
      "\n",
      " [[        nan]\n",
      "  [        nan]\n",
      "  [        nan]\n",
      "  [        nan]\n",
      "  [        nan]]\n",
      "\n",
      " [[        nan]\n",
      "  [        nan]\n",
      "  [        nan]\n",
      "  [        nan]\n",
      "  [        nan]]]\n"
     ]
    }
   ],
   "source": [
    "##### Step 6 - Use model to make predictions\n",
    "# Predict results on training data\n",
    "pred_e1d1 = model_e1d1.predict(X_test)\n",
    "print(pred_e1d1)"
   ]
  },
  {
   "cell_type": "code",
   "execution_count": 35,
   "id": "68bfadcf",
   "metadata": {},
   "outputs": [
    {
     "name": "stdout",
     "output_type": "stream",
     "text": [
      "[[[-0.31002327]\n",
      "  [-0.26676647]\n",
      "  [-0.22132785]\n",
      "  [-0.20472602]\n",
      "  [-0.22859063]]\n",
      "\n",
      " [[-0.26676647]\n",
      "  [-0.22132785]\n",
      "  [-0.20472602]\n",
      "  [-0.22859063]\n",
      "  [-0.272304  ]]\n",
      "\n",
      " [[-0.22132785]\n",
      "  [-0.20472602]\n",
      "  [-0.22859063]\n",
      "  [-0.272304  ]\n",
      "  [-0.33889113]]\n",
      "\n",
      " ...\n",
      "\n",
      " [[ 5.59819131]\n",
      "  [ 5.7613405 ]\n",
      "  [ 6.03063384]\n",
      "  [ 6.05323221]\n",
      "  [ 6.0857561 ]]\n",
      "\n",
      " [[ 5.7613405 ]\n",
      "  [ 6.03063384]\n",
      "  [ 6.05323221]\n",
      "  [ 6.0857561 ]\n",
      "  [ 5.96487804]]\n",
      "\n",
      " [[ 6.03063384]\n",
      "  [ 6.05323221]\n",
      "  [ 6.0857561 ]\n",
      "  [ 5.96487804]\n",
      "  [ 6.01041249]]]\n"
     ]
    }
   ],
   "source": [
    "print(y_test)"
   ]
  },
  {
   "cell_type": "code",
   "execution_count": 85,
   "id": "4d9024db",
   "metadata": {},
   "outputs": [
    {
     "name": "stdout",
     "output_type": "stream",
     "text": [
      "(353, 5, 1)\n"
     ]
    },
    {
     "ename": "TypeError",
     "evalue": "'int' object is not iterable",
     "output_type": "error",
     "traceback": [
      "\u001b[1;31m---------------------------------------------------------------------------\u001b[0m",
      "\u001b[1;31mTypeError\u001b[0m                                 Traceback (most recent call last)",
      "Input \u001b[1;32mIn [85]\u001b[0m, in \u001b[0;36m<cell line: 8>\u001b[1;34m()\u001b[0m\n\u001b[0;32m      6\u001b[0m         \u001b[38;5;28;01mreturn\u001b[39;00m (\u001b[38;5;28mabs\u001b[39m(predicted[i]\u001b[38;5;241m-\u001b[39mreal[i])\u001b[38;5;241m/\u001b[39mreal[i])\n\u001b[0;32m      8\u001b[0m \u001b[38;5;28;01mfor\u001b[39;00m i \u001b[38;5;129;01min\u001b[39;00m \u001b[38;5;28mrange\u001b[39m(\u001b[38;5;241m353\u001b[39m):\n\u001b[1;32m----> 9\u001b[0m     \u001b[43mfind_accuracy\u001b[49m\u001b[43m(\u001b[49m\u001b[43my_test\u001b[49m\u001b[43m[\u001b[49m\u001b[38;5;241;43m2\u001b[39;49m\u001b[43m]\u001b[49m\u001b[38;5;241;43m.\u001b[39;49m\u001b[43mflatten\u001b[49m\u001b[43m(\u001b[49m\u001b[43m)\u001b[49m\u001b[43m,\u001b[49m\u001b[43mpred_e1d1\u001b[49m\u001b[43m[\u001b[49m\u001b[38;5;241;43m2\u001b[39;49m\u001b[43m]\u001b[49m\u001b[38;5;241;43m.\u001b[39;49m\u001b[43mflatten\u001b[49m\u001b[43m(\u001b[49m\u001b[43m)\u001b[49m\u001b[43m)\u001b[49m\n",
      "Input \u001b[1;32mIn [85]\u001b[0m, in \u001b[0;36mfind_accuracy\u001b[1;34m(real, predicted)\u001b[0m\n\u001b[0;32m      4\u001b[0m \u001b[38;5;28;01mdef\u001b[39;00m \u001b[38;5;21mfind_accuracy\u001b[39m(real, predicted):\n\u001b[1;32m----> 5\u001b[0m     \u001b[38;5;28;01mfor\u001b[39;00m i \u001b[38;5;129;01min\u001b[39;00m \u001b[38;5;28mlen\u001b[39m(real):\n\u001b[0;32m      6\u001b[0m         \u001b[38;5;28;01mreturn\u001b[39;00m (\u001b[38;5;28mabs\u001b[39m(predicted[i]\u001b[38;5;241m-\u001b[39mreal[i])\u001b[38;5;241m/\u001b[39mreal[i])\n",
      "\u001b[1;31mTypeError\u001b[0m: 'int' object is not iterable"
     ]
    }
   ],
   "source": [
    "#compare the pred_e1d1 and y_test\n",
    "print(y_test.shape)\n",
    "\n",
    "def find_accuracy(real, predicted):\n",
    "    for i in len(real):\n",
    "        return (abs(predicted[i]-real[i])/real[i])\n",
    "    \n",
    "for i in range(353):\n",
    "    find_accuracy(y_test[2].flatten(),pred_e1d1[2].flatten())\n"
   ]
  },
  {
   "cell_type": "code",
   "execution_count": 41,
   "id": "d6b508b9",
   "metadata": {},
   "outputs": [
    {
     "name": "stdout",
     "output_type": "stream",
     "text": [
      "dict_keys(['loss', 'mean_squared_error', 'accuracy', 'mean_absolute_error', 'val_loss', 'val_mean_squared_error', 'val_accuracy', 'val_mean_absolute_error'])\n"
     ]
    }
   ],
   "source": [
    "# list all data in history\n",
    "print(history_e1d1.history.keys())"
   ]
  },
  {
   "cell_type": "code",
   "execution_count": 42,
   "id": "8beabd8f",
   "metadata": {},
   "outputs": [
    {
     "name": "stdout",
     "output_type": "stream",
     "text": [
      "dict_keys(['loss', 'mean_squared_error', 'accuracy', 'mean_absolute_error', 'val_loss', 'val_mean_squared_error', 'val_accuracy', 'val_mean_absolute_error'])\n"
     ]
    },
    {
     "data": {
      "image/png": "[encoded data removed]",
      "text/plain": [
       "<Figure size 720x720 with 1 Axes>"
      ]
     },
     "metadata": {
      "needs_background": "light"
     },
     "output_type": "display_data"
    },
    {
     "data": {
      "image/png": "[encoded data removed]",
      "text/plain": [
       "<Figure size 432x288 with 1 Axes>"
      ]
     },
     "metadata": {
      "needs_background": "light"
     },
     "output_type": "display_data"
    },
    {
     "data": {
      "image/png": "[encoded data removed]",
      "text/plain": [
       "<Figure size 720x720 with 1 Axes>"
      ]
     },
     "metadata": {
      "needs_background": "light"
     },
     "output_type": "display_data"
    }
   ],
   "source": [
    "# Visualize training history\n",
    "\n",
    "# list all data in history\n",
    "print(history_e1d1.history.keys())\n",
    "# summarize history for MSE\n",
    "f = plt.figure()\n",
    "f.set_figwidth(10)\n",
    "f.set_figheight(10)\n",
    "plt.plot(history_e1d1.history['mean_squared_error'])\n",
    "plt.plot(history_e1d1.history['val_mean_squared_error'])\n",
    "plt.title('model mean squared error')\n",
    "plt.ylabel('MSE')\n",
    "plt.xlabel('epoch')\n",
    "plt.legend(['train', 'test'], loc='upper left')\n",
    "plt.show()\n",
    "# summarize history for loss\n",
    "plt.plot(history_e1d1.history['loss'])\n",
    "plt.plot(history_e1d1.history['val_loss'])\n",
    "plt.title('model loss')\n",
    "plt.ylabel('loss')\n",
    "plt.xlabel('epoch')\n",
    "plt.legend(['train', 'test'], loc='upper left')\n",
    "plt.show()\n",
    "# summarize history for MSE\n",
    "f = plt.figure()\n",
    "f.set_figwidth(10)\n",
    "f.set_figheight(10)\n",
    "plt.plot(history_e1d1.history['accuracy'])\n",
    "plt.plot(history_e1d1.history['val_accuracy'])\n",
    "plt.title('model accuracy')\n",
    "plt.ylabel('accuracy')\n",
    "plt.xlabel('epoch')\n",
    "plt.legend(['train', 'test'], loc='upper left')\n",
    "plt.show()"
   ]
  },
  {
   "cell_type": "markdown",
   "id": "6c8d6824",
   "metadata": {},
   "source": [
    "I don't know why accuracy is 0\n",
    "and I don't know how to use the prediction to actually compare to the values but I would like to do that as an evaulation technique. \n"
   ]
  },
  {
   "cell_type": "markdown",
   "id": "cfbe0c5d",
   "metadata": {},
   "source": [
    "# Graphing and visualization time\n",
    "idk what these are telling us but don't they look fun?"
   ]
  },
  {
   "cell_type": "code",
   "execution_count": 45,
   "id": "8d36e9c2",
   "metadata": {},
   "outputs": [
    {
     "data": {
      "image/svg+xml": [
       "<?xml version=\"1.0\" encoding=\"UTF-8\" standalone=\"no\"?>\n",
       "<!DOCTYPE svg PUBLIC \"-//W3C//DTD SVG 1.1//EN\"\n",
       " \"http://www.w3.org/Graphics/SVG/1.1/DTD/svg11.dtd\">\n",
       "<!-- Generated by graphviz version 7.0.3 (20221126.0506)\n",
       " -->\n",
       "<!-- Pages: 1 -->\n",
       "<svg width=\"62pt\" height=\"116pt\"\n",
       " viewBox=\"0.00 0.00 62.00 116.00\" xmlns=\"http://www.w3.org/2000/svg\" xmlns:xlink=\"http://www.w3.org/1999/xlink\">\n",
       "<g id=\"graph0\" class=\"graph\" transform=\"scale(1 1) rotate(0) translate(4 112)\">\n",
       "<polygon fill=\"white\" stroke=\"none\" points=\"-4,4 -4,-112 58,-112 58,4 -4,4\"/>\n",
       "<!-- 1 -->\n",
       "<g id=\"node1\" class=\"node\">\n",
       "<title>1</title>\n",
       "<ellipse fill=\"none\" stroke=\"black\" cx=\"27\" cy=\"-90\" rx=\"27\" ry=\"18\"/>\n",
       "<text text-anchor=\"middle\" x=\"27\" y=\"-86.3\" font-family=\"Times New Roman,serif\" font-size=\"14.00\">1</text>\n",
       "</g>\n",
       "<!-- 2 -->\n",
       "<g id=\"node2\" class=\"node\">\n",
       "<title>2</title>\n",
       "<ellipse fill=\"none\" stroke=\"black\" cx=\"27\" cy=\"-18\" rx=\"27\" ry=\"18\"/>\n",
       "<text text-anchor=\"middle\" x=\"27\" y=\"-14.3\" font-family=\"Times New Roman,serif\" font-size=\"14.00\">2</text>\n",
       "</g>\n",
       "<!-- 1&#45;&gt;2 -->\n",
       "<g id=\"edge1\" class=\"edge\">\n",
       "<title>1&#45;&gt;2</title>\n",
       "<path fill=\"none\" stroke=\"black\" d=\"M27,-71.7C27,-64.41 27,-55.73 27,-47.54\"/>\n",
       "<polygon fill=\"black\" stroke=\"black\" points=\"30.5,-47.62 27,-37.62 23.5,-47.62 30.5,-47.62\"/>\n",
       "</g>\n",
       "</g>\n",
       "</svg>\n"
      ],
      "text/plain": [
       "<graphviz.graphs.Digraph at 0x29728806820>"
      ]
     },
     "execution_count": 45,
     "metadata": {},
     "output_type": "execute_result"
    }
   ],
   "source": [
    "#run this to check that graphviz is working\n",
    "from graphviz import Digraph\n",
    "\n",
    "dot = Digraph()\n",
    "dot.node('1')\n",
    "dot.node('2')\n",
    "dot.edges(['12'])\n",
    "dot"
   ]
  },
  {
   "cell_type": "code",
   "execution_count": 46,
   "id": "9db94dbb",
   "metadata": {},
   "outputs": [
    {
     "data": {
      "image/png": "[encoded data removed]",
      "text/plain": [
       "<IPython.core.display.Image object>"
      ]
     },
     "execution_count": 46,
     "metadata": {},
     "output_type": "execute_result"
    }
   ],
   "source": [
    "#graph model attempts\n",
    "import pydot\n",
    "from keras.utils.vis_utils import plot_model\n",
    "import graphviz\n",
    "\n",
    "plot_model(model_e1d1, to_file='../visuals/model_e1d1_plot.png', show_shapes=True, show_layer_names=True)"
   ]
  },
  {
   "cell_type": "code",
   "execution_count": 47,
   "id": "d12e529f",
   "metadata": {},
   "outputs": [
    {
     "data": {
      "image/png": "[encoded data removed]",
      "text/plain": [
       "<IPython.core.display.Image object>"
      ]
     },
     "execution_count": 47,
     "metadata": {},
     "output_type": "execute_result"
    }
   ],
   "source": [
    "#plotting E2D2\n",
    "plot_model(model_e2d2, to_file='../visuals/model_e2d2_plot.png', show_shapes=True, show_layer_names=True)"
   ]
  },
  {
   "cell_type": "code",
   "execution_count": null,
   "id": "437fad24",
   "metadata": {},
   "outputs": [],
   "source": []
  }
 ],
 "metadata": {
  "kernelspec": {
   "display_name": "Python 3 (ipykernel)",
   "language": "python",
   "name": "python3"
  },
  "language_info": {
   "codemirror_mode": {
    "name": "ipython",
    "version": 3
   },
   "file_extension": ".py",
   "mimetype": "text/x-python",
   "name": "python",
   "nbconvert_exporter": "python",
   "pygments_lexer": "ipython3",
   "version": "3.9.12"
  }
 },
 "nbformat": 4,
 "nbformat_minor": 5
}
