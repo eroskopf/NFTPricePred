{
 "cells": [
  {
   "cell_type": "code",
   "execution_count": 2,
   "id": "7a8c49c7",
   "metadata": {},
   "outputs": [],
   "source": []
  },
  {
   "cell_type": "code",
   "execution_count": 6,
   "id": "5cb46535",
   "metadata": {},
   "outputs": [],
   "source": [
    "import matplotlib.pyplot as plt\n",
    "import sklearn\n",
    "import seaborn as sns\n",
    "import pandas as pd\n",
    "import os\n",
    "import numpy as np\n",
    "import scipy.stats as stats\n",
    "import tensorflow as tf\n",
    "from datetime import datetime, timedelta\n",
    "import wandb\n",
    "from wandb.keras import WandbCallback\n",
    "import graphviz"
   ]
  },
  {
   "cell_type": "code",
   "execution_count": 7,
   "id": "47e27046",
   "metadata": {},
   "outputs": [
    {
     "name": "stderr",
     "output_type": "stream",
     "text": [
      "Traceback (most recent call last):\n",
      "  File \"C:\\Users\\aitbudapest\\anaconda3\\lib\\site-packages\\wandb\\sdk\\wandb_init.py\", line 1075, in init\n",
      "    wi.setup(kwargs)\n",
      "  File \"C:\\Users\\aitbudapest\\anaconda3\\lib\\site-packages\\wandb\\sdk\\wandb_init.py\", line 165, in setup\n",
      "    self._wl = wandb_setup.setup()\n",
      "  File \"C:\\Users\\aitbudapest\\anaconda3\\lib\\site-packages\\wandb\\sdk\\wandb_setup.py\", line 312, in setup\n",
      "    ret = _setup(settings=settings)\n",
      "  File \"C:\\Users\\aitbudapest\\anaconda3\\lib\\site-packages\\wandb\\sdk\\wandb_setup.py\", line 307, in _setup\n",
      "    wl = _WandbSetup(settings=settings)\n",
      "  File \"C:\\Users\\aitbudapest\\anaconda3\\lib\\site-packages\\wandb\\sdk\\wandb_setup.py\", line 293, in __init__\n",
      "    _WandbSetup._instance = _WandbSetup__WandbSetup(settings=settings, pid=pid)\n",
      "  File \"C:\\Users\\aitbudapest\\anaconda3\\lib\\site-packages\\wandb\\sdk\\wandb_setup.py\", line 100, in __init__\n",
      "    self._settings = self._settings_setup(settings, self._early_logger)\n",
      "  File \"C:\\Users\\aitbudapest\\anaconda3\\lib\\site-packages\\wandb\\sdk\\wandb_setup.py\", line 128, in _settings_setup\n",
      "    s._infer_settings_from_environment()\n",
      "  File \"C:\\Users\\aitbudapest\\anaconda3\\lib\\site-packages\\wandb\\sdk\\wandb_settings.py\", line 1392, in _infer_settings_from_environment\n",
      "    settings[\"username\"] = getpass.getuser()\n",
      "  File \"C:\\Users\\aitbudapest\\anaconda3\\lib\\getpass.py\", line 168, in getuser\n",
      "    import pwd\n",
      "ModuleNotFoundError: No module named 'pwd'\n",
      "\u001b[34m\u001b[1mwandb\u001b[0m: \u001b[32m\u001b[41mERROR\u001b[0m Abnormal program exit\n"
     ]
    },
    {
     "ename": "Exception",
     "evalue": "problem",
     "output_type": "error",
     "traceback": [
      "\u001b[1;31m---------------------------------------------------------------------------\u001b[0m",
      "\u001b[1;31mModuleNotFoundError\u001b[0m                       Traceback (most recent call last)",
      "File \u001b[1;32m~\\anaconda3\\lib\\site-packages\\wandb\\sdk\\wandb_init.py:1075\u001b[0m, in \u001b[0;36minit\u001b[1;34m(job_type, dir, config, project, entity, reinit, tags, group, name, notes, magic, config_exclude_keys, config_include_keys, anonymous, mode, allow_val_change, resume, force, tensorboard, sync_tensorboard, monitor_gym, save_code, id, settings)\u001b[0m\n\u001b[0;32m   1074\u001b[0m wi \u001b[38;5;241m=\u001b[39m _WandbInit()\n\u001b[1;32m-> 1075\u001b[0m \u001b[43mwi\u001b[49m\u001b[38;5;241;43m.\u001b[39;49m\u001b[43msetup\u001b[49m\u001b[43m(\u001b[49m\u001b[43mkwargs\u001b[49m\u001b[43m)\u001b[49m\n\u001b[0;32m   1076\u001b[0m except_exit \u001b[38;5;241m=\u001b[39m wi\u001b[38;5;241m.\u001b[39msettings\u001b[38;5;241m.\u001b[39m_except_exit\n",
      "File \u001b[1;32m~\\anaconda3\\lib\\site-packages\\wandb\\sdk\\wandb_init.py:165\u001b[0m, in \u001b[0;36m_WandbInit.setup\u001b[1;34m(self, kwargs)\u001b[0m\n\u001b[0;32m    163\u001b[0m         \u001b[38;5;28mself\u001b[39m\u001b[38;5;241m.\u001b[39mprinter\u001b[38;5;241m.\u001b[39mdisplay(line, level\u001b[38;5;241m=\u001b[39m\u001b[38;5;124m\"\u001b[39m\u001b[38;5;124mwarn\u001b[39m\u001b[38;5;124m\"\u001b[39m)\n\u001b[1;32m--> 165\u001b[0m \u001b[38;5;28mself\u001b[39m\u001b[38;5;241m.\u001b[39m_wl \u001b[38;5;241m=\u001b[39m \u001b[43mwandb_setup\u001b[49m\u001b[38;5;241;43m.\u001b[39;49m\u001b[43msetup\u001b[49m\u001b[43m(\u001b[49m\u001b[43m)\u001b[49m\n\u001b[0;32m    166\u001b[0m \u001b[38;5;66;03m# Make sure we have a logger setup (might be an early logger)\u001b[39;00m\n",
      "File \u001b[1;32m~\\anaconda3\\lib\\site-packages\\wandb\\sdk\\wandb_setup.py:312\u001b[0m, in \u001b[0;36msetup\u001b[1;34m(settings)\u001b[0m\n\u001b[0;32m    311\u001b[0m \u001b[38;5;28;01mdef\u001b[39;00m \u001b[38;5;21msetup\u001b[39m(settings\u001b[38;5;241m=\u001b[39m\u001b[38;5;28;01mNone\u001b[39;00m) \u001b[38;5;241m-\u001b[39m\u001b[38;5;241m>\u001b[39m Optional[\u001b[38;5;124m\"\u001b[39m\u001b[38;5;124m_WandbSetup\u001b[39m\u001b[38;5;124m\"\u001b[39m]:\n\u001b[1;32m--> 312\u001b[0m     ret \u001b[38;5;241m=\u001b[39m \u001b[43m_setup\u001b[49m\u001b[43m(\u001b[49m\u001b[43msettings\u001b[49m\u001b[38;5;241;43m=\u001b[39;49m\u001b[43msettings\u001b[49m\u001b[43m)\u001b[49m\n\u001b[0;32m    313\u001b[0m     \u001b[38;5;28;01mreturn\u001b[39;00m ret\n",
      "File \u001b[1;32m~\\anaconda3\\lib\\site-packages\\wandb\\sdk\\wandb_setup.py:307\u001b[0m, in \u001b[0;36m_setup\u001b[1;34m(settings, _reset)\u001b[0m\n\u001b[0;32m    306\u001b[0m     \u001b[38;5;28;01mreturn\u001b[39;00m\n\u001b[1;32m--> 307\u001b[0m wl \u001b[38;5;241m=\u001b[39m \u001b[43m_WandbSetup\u001b[49m\u001b[43m(\u001b[49m\u001b[43msettings\u001b[49m\u001b[38;5;241;43m=\u001b[39;49m\u001b[43msettings\u001b[49m\u001b[43m)\u001b[49m\n\u001b[0;32m    308\u001b[0m \u001b[38;5;28;01mreturn\u001b[39;00m wl\n",
      "File \u001b[1;32m~\\anaconda3\\lib\\site-packages\\wandb\\sdk\\wandb_setup.py:293\u001b[0m, in \u001b[0;36m_WandbSetup.__init__\u001b[1;34m(self, settings)\u001b[0m\n\u001b[0;32m    292\u001b[0m     \u001b[38;5;28;01mreturn\u001b[39;00m\n\u001b[1;32m--> 293\u001b[0m _WandbSetup\u001b[38;5;241m.\u001b[39m_instance \u001b[38;5;241m=\u001b[39m \u001b[43m_WandbSetup__WandbSetup\u001b[49m\u001b[43m(\u001b[49m\u001b[43msettings\u001b[49m\u001b[38;5;241;43m=\u001b[39;49m\u001b[43msettings\u001b[49m\u001b[43m,\u001b[49m\u001b[43m \u001b[49m\u001b[43mpid\u001b[49m\u001b[38;5;241;43m=\u001b[39;49m\u001b[43mpid\u001b[49m\u001b[43m)\u001b[49m\n",
      "File \u001b[1;32m~\\anaconda3\\lib\\site-packages\\wandb\\sdk\\wandb_setup.py:100\u001b[0m, in \u001b[0;36m_WandbSetup__WandbSetup.__init__\u001b[1;34m(self, pid, settings, environ)\u001b[0m\n\u001b[0;32m     98\u001b[0m _set_logger(\u001b[38;5;28mself\u001b[39m\u001b[38;5;241m.\u001b[39m_early_logger)\n\u001b[1;32m--> 100\u001b[0m \u001b[38;5;28mself\u001b[39m\u001b[38;5;241m.\u001b[39m_settings \u001b[38;5;241m=\u001b[39m \u001b[38;5;28;43mself\u001b[39;49m\u001b[38;5;241;43m.\u001b[39;49m\u001b[43m_settings_setup\u001b[49m\u001b[43m(\u001b[49m\u001b[43msettings\u001b[49m\u001b[43m,\u001b[49m\u001b[43m \u001b[49m\u001b[38;5;28;43mself\u001b[39;49m\u001b[38;5;241;43m.\u001b[39;49m\u001b[43m_early_logger\u001b[49m\u001b[43m)\u001b[49m\n\u001b[0;32m    101\u001b[0m \u001b[38;5;66;03m# self._settings.freeze()\u001b[39;00m\n",
      "File \u001b[1;32m~\\anaconda3\\lib\\site-packages\\wandb\\sdk\\wandb_setup.py:128\u001b[0m, in \u001b[0;36m_WandbSetup__WandbSetup._settings_setup\u001b[1;34m(self, settings, early_logger)\u001b[0m\n\u001b[0;32m    126\u001b[0m     s\u001b[38;5;241m.\u001b[39m_apply_setup(settings, _logger\u001b[38;5;241m=\u001b[39mearly_logger)\n\u001b[1;32m--> 128\u001b[0m \u001b[43ms\u001b[49m\u001b[38;5;241;43m.\u001b[39;49m\u001b[43m_infer_settings_from_environment\u001b[49m\u001b[43m(\u001b[49m\u001b[43m)\u001b[49m\n\u001b[0;32m    129\u001b[0m \u001b[38;5;28;01mif\u001b[39;00m \u001b[38;5;129;01mnot\u001b[39;00m s\u001b[38;5;241m.\u001b[39m_cli_only_mode:\n",
      "File \u001b[1;32m~\\anaconda3\\lib\\site-packages\\wandb\\sdk\\wandb_settings.py:1392\u001b[0m, in \u001b[0;36mSettings._infer_settings_from_environment\u001b[1;34m(self, _logger)\u001b[0m\n\u001b[0;32m   1391\u001b[0m \u001b[38;5;28;01mtry\u001b[39;00m:  \u001b[38;5;66;03m# type: ignore\u001b[39;00m\n\u001b[1;32m-> 1392\u001b[0m     settings[\u001b[38;5;124m\"\u001b[39m\u001b[38;5;124musername\u001b[39m\u001b[38;5;124m\"\u001b[39m] \u001b[38;5;241m=\u001b[39m \u001b[43mgetpass\u001b[49m\u001b[38;5;241;43m.\u001b[39;49m\u001b[43mgetuser\u001b[49m\u001b[43m(\u001b[49m\u001b[43m)\u001b[49m\n\u001b[0;32m   1393\u001b[0m \u001b[38;5;28;01mexcept\u001b[39;00m \u001b[38;5;167;01mKeyError\u001b[39;00m:\n\u001b[0;32m   1394\u001b[0m     \u001b[38;5;66;03m# getuser() could raise KeyError in restricted environments like\u001b[39;00m\n\u001b[0;32m   1395\u001b[0m     \u001b[38;5;66;03m# chroot jails or docker containers. Return user id in these cases.\u001b[39;00m\n",
      "File \u001b[1;32m~\\anaconda3\\lib\\getpass.py:168\u001b[0m, in \u001b[0;36mgetuser\u001b[1;34m()\u001b[0m\n\u001b[0;32m    167\u001b[0m \u001b[38;5;66;03m# If this fails, the exception will \"explain\" why\u001b[39;00m\n\u001b[1;32m--> 168\u001b[0m \u001b[38;5;28;01mimport\u001b[39;00m \u001b[38;5;21;01mpwd\u001b[39;00m\n\u001b[0;32m    169\u001b[0m \u001b[38;5;28;01mreturn\u001b[39;00m pwd\u001b[38;5;241m.\u001b[39mgetpwuid(os\u001b[38;5;241m.\u001b[39mgetuid())[\u001b[38;5;241m0\u001b[39m]\n",
      "\u001b[1;31mModuleNotFoundError\u001b[0m: No module named 'pwd'",
      "\nThe above exception was the direct cause of the following exception:\n",
      "\u001b[1;31mException\u001b[0m                                 Traceback (most recent call last)",
      "Input \u001b[1;32mIn [7]\u001b[0m, in \u001b[0;36m<cell line: 1>\u001b[1;34m()\u001b[0m\n\u001b[1;32m----> 1\u001b[0m \u001b[43mwandb\u001b[49m\u001b[38;5;241;43m.\u001b[39;49m\u001b[43minit\u001b[49m\u001b[43m(\u001b[49m\u001b[43mproject\u001b[49m\u001b[38;5;241;43m=\u001b[39;49m\u001b[38;5;124;43m\"\u001b[39;49m\u001b[38;5;124;43mNFT-prediction\u001b[39;49m\u001b[38;5;124;43m\"\u001b[39;49m\u001b[43m)\u001b[49m\n",
      "File \u001b[1;32m~\\anaconda3\\lib\\site-packages\\wandb\\sdk\\wandb_init.py:1116\u001b[0m, in \u001b[0;36minit\u001b[1;34m(job_type, dir, config, project, entity, reinit, tags, group, name, notes, magic, config_exclude_keys, config_include_keys, anonymous, mode, allow_val_change, resume, force, tensorboard, sync_tensorboard, monitor_gym, save_code, id, settings)\u001b[0m\n\u001b[0;32m   1114\u001b[0m         \u001b[38;5;28;01mif\u001b[39;00m except_exit:\n\u001b[0;32m   1115\u001b[0m             os\u001b[38;5;241m.\u001b[39m_exit(\u001b[38;5;241m-\u001b[39m\u001b[38;5;241m1\u001b[39m)\n\u001b[1;32m-> 1116\u001b[0m         \u001b[38;5;28;01mraise\u001b[39;00m \u001b[38;5;167;01mException\u001b[39;00m(\u001b[38;5;124m\"\u001b[39m\u001b[38;5;124mproblem\u001b[39m\u001b[38;5;124m\"\u001b[39m) \u001b[38;5;28;01mfrom\u001b[39;00m \u001b[38;5;21;01merror_seen\u001b[39;00m\n\u001b[0;32m   1117\u001b[0m \u001b[38;5;28;01mreturn\u001b[39;00m run\n",
      "\u001b[1;31mException\u001b[0m: problem"
     ]
    }
   ],
   "source": [
    "wandb.init(project=\"NFT-prediction\")\n"
   ]
  },
  {
   "cell_type": "code",
   "execution_count": 31,
   "id": "330434d3",
   "metadata": {},
   "outputs": [],
   "source": [
    "wandb.config = {\n",
    "  \"learning_rate\": 0.01,\n",
    "  \"epochs\": 25,\n",
    "  \"batch_size\": 32\n",
    "}"
   ]
  },
  {
   "cell_type": "code",
   "execution_count": 1,
   "id": "db639f10",
   "metadata": {},
   "outputs": [
    {
     "ename": "NameError",
     "evalue": "name 'pd' is not defined",
     "output_type": "error",
     "traceback": [
      "\u001b[1;31m---------------------------------------------------------------------------\u001b[0m",
      "\u001b[1;31mNameError\u001b[0m                                 Traceback (most recent call last)",
      "Input \u001b[1;32mIn [1]\u001b[0m, in \u001b[0;36m<cell line: 2>\u001b[1;34m()\u001b[0m\n\u001b[0;32m      1\u001b[0m f \u001b[38;5;241m=\u001b[39m \u001b[38;5;28mopen\u001b[39m(\u001b[38;5;124m\"\u001b[39m\u001b[38;5;124m../data/prediction.csv\u001b[39m\u001b[38;5;124m\"\u001b[39m, \u001b[38;5;124m'\u001b[39m\u001b[38;5;124mr\u001b[39m\u001b[38;5;124m'\u001b[39m)\n\u001b[1;32m----> 2\u001b[0m pred \u001b[38;5;241m=\u001b[39m \u001b[43mpd\u001b[49m\u001b[38;5;241m.\u001b[39mread_csv(f)\n\u001b[0;32m      3\u001b[0m \u001b[38;5;28;01mdel\u001b[39;00m pred[\u001b[38;5;124m'\u001b[39m\u001b[38;5;124mUnnamed: 0\u001b[39m\u001b[38;5;124m'\u001b[39m]\n\u001b[0;32m      4\u001b[0m pred[\u001b[38;5;124m\"\u001b[39m\u001b[38;5;124mDate\u001b[39m\u001b[38;5;124m\"\u001b[39m] \u001b[38;5;241m=\u001b[39m pd\u001b[38;5;241m.\u001b[39mto_datetime(pred[\u001b[38;5;124m'\u001b[39m\u001b[38;5;124mDate\u001b[39m\u001b[38;5;124m'\u001b[39m], \u001b[38;5;28mformat\u001b[39m\u001b[38;5;241m=\u001b[39m\u001b[38;5;124m'\u001b[39m\u001b[38;5;124m%\u001b[39m\u001b[38;5;124mY-\u001b[39m\u001b[38;5;124m%\u001b[39m\u001b[38;5;124mm-\u001b[39m\u001b[38;5;132;01m%d\u001b[39;00m\u001b[38;5;124m'\u001b[39m)\n",
      "\u001b[1;31mNameError\u001b[0m: name 'pd' is not defined"
     ]
    }
   ],
   "source": [
    "f = open(\"../data/prediction.csv\", 'r')\n",
    "pred = pd.read_csv(f)\n",
    "del pred['Unnamed: 0']\n",
    "pred[\"Date\"] = pd.to_datetime(pred['Date'], format='%Y-%m-%d')\n",
    "pred = pred.astype({'Number_of_sales':'float32','Active_markets_wallets':'float32','Primary_sales':'float32','ETH_high_price':'float32'})\n",
    "pred = pred.set_index(\"Date\")\n",
    "pred.head()\n"
   ]
  },
  {
   "cell_type": "code",
   "execution_count": 5,
   "id": "f846e9ea",
   "metadata": {},
   "outputs": [],
   "source": [
    "#only predict one variable\n",
    "#calculate accuracy based on that"
   ]
  },
  {
   "cell_type": "code",
   "execution_count": 33,
   "id": "6888a165",
   "metadata": {},
   "outputs": [
    {
     "data": {
      "text/plain": [
       "Number_of_sales           0\n",
       "Active_markets_wallets    0\n",
       "Primary_sales             8\n",
       "ETH_high_price            0\n",
       "Sales_USD                 0\n",
       "dtype: int64"
      ]
     },
     "execution_count": 33,
     "metadata": {},
     "output_type": "execute_result"
    }
   ],
   "source": [
    "pred = pred.replace('?', np.nan)\n",
    "pred = pred.replace('null', np.nan)\n",
    "\n",
    "def fill_missing(values):\n",
    "    for row in range(pred.shape[0]):\n",
    "        for col in range(pred.shape[1]):\n",
    "            if (values[row][col] == np.nan):\n",
    "                values[row,col] = values[row-1, col]\n",
    "pred.isnull().sum()"
   ]
  },
  {
   "cell_type": "code",
   "execution_count": 34,
   "id": "e14d51fc",
   "metadata": {},
   "outputs": [],
   "source": [
    "\n",
    "fill_missing(pred.values)\n",
    "pred.isnull().sum()\n",
    "for i in range(pred.shape[0]):\n",
    "    if (type(pred.iloc[i][\"Active_markets_wallets\"]) != np.float64):\n",
    "        print(i)\n"
   ]
  },
  {
   "cell_type": "code",
   "execution_count": 36,
   "id": "96f002db",
   "metadata": {},
   "outputs": [
    {
     "data": {
      "text/plain": [
       "'\\nfrom sklearn.preprocessing import MinMaxScaler\\n#min max\\ntrain = train_df\\nscalers={}\\nfor i in train_df.columns:\\n    if (i == \"Date\"):\\n        #skip\\n        print(\"nothing\")\\n    else:\\n        scaler = MinMaxScaler(feature_range=(-1,1))\\n        s_s = scaler.fit_transform(train[i].values.reshape(-1,1))\\n        s_s=np.reshape(s_s,len(s_s))\\n        scalers[\\'scaler_\\'+ i] = scaler\\n        train[i]=s_s\\ntest = test_df\\nfor i in train_df.columns:\\n    if (i == \"Date\"):\\n        #skip\\n        print(\"nothing\")\\n    else:\\n        scaler = scalers[\\'scaler_\\'+i]\\n        s_s = scaler.transform(test[i].values.reshape(-1,1))\\n        s_s=np.reshape(s_s,len(s_s))\\n        scalers[\\'scaler_\\'+i] = scaler\\n        test[i]=s_s\\n'"
      ]
     },
     "execution_count": 36,
     "metadata": {},
     "output_type": "execute_result"
    }
   ],
   "source": [
    "#75% 25% split\n",
    "# 1466*0.75 = 1099\n",
    "train_df,test_df = pred[1:1099], pred[1099:] \n",
    "train = train_df\n",
    "test = test_df\n",
    "'''\n",
    "from sklearn.preprocessing import MinMaxScaler\n",
    "#min max\n",
    "train = train_df\n",
    "scalers={}\n",
    "for i in train_df.columns:\n",
    "    if (i == \"Date\"):\n",
    "        #skip\n",
    "        print(\"nothing\")\n",
    "    else:\n",
    "        scaler = MinMaxScaler(feature_range=(-1,1))\n",
    "        s_s = scaler.fit_transform(train[i].values.reshape(-1,1))\n",
    "        s_s=np.reshape(s_s,len(s_s))\n",
    "        scalers['scaler_'+ i] = scaler\n",
    "        train[i]=s_s\n",
    "test = test_df\n",
    "for i in train_df.columns:\n",
    "    if (i == \"Date\"):\n",
    "        #skip\n",
    "        print(\"nothing\")\n",
    "    else:\n",
    "        scaler = scalers['scaler_'+i]\n",
    "        s_s = scaler.transform(test[i].values.reshape(-1,1))\n",
    "        s_s=np.reshape(s_s,len(s_s))\n",
    "        scalers['scaler_'+i] = scaler\n",
    "        test[i]=s_s\n",
    "'''"
   ]
  },
  {
   "cell_type": "code",
   "execution_count": 37,
   "id": "18d405a5",
   "metadata": {},
   "outputs": [],
   "source": [
    "def split_series(df, n_past, n_future):\n",
    "  #\n",
    "  # n_past ==> no of past observations\n",
    "  #\n",
    "  # n_future ==> no of future observations \n",
    "  #\n",
    "  series = df.values\n",
    "  X, y = list(), list()\n",
    "  for window_start in range(len(series)):\n",
    "    past_end = window_start + n_past\n",
    "    future_end = past_end + n_future\n",
    "    if future_end > len(series):\n",
    "      break\n",
    "    # slicing the past and future parts of the window\n",
    "    past, future = df.iloc[window_start:past_end, 0:4], df.iloc[past_end:future_end, 4:]\n",
    "    past = past.values\n",
    "    future = future.values\n",
    "    X.append(past)\n",
    "    y.append(future)\n",
    "  return np.array(X), np.array(y)\n",
    "\n",
    "#use 10 days to predict 5 days into the future\n",
    "n_past = 10\n",
    "n_future = 5 \n",
    "n_features_train = 4\n",
    "n_features_predict=1"
   ]
  },
  {
   "cell_type": "code",
   "execution_count": 38,
   "id": "d0857f9e",
   "metadata": {},
   "outputs": [
    {
     "name": "stdout",
     "output_type": "stream",
     "text": [
      "             Sales_USD\n",
      "Date                  \n",
      "2017-11-11  319.453003\n",
      "2017-11-12  319.153015\n"
     ]
    }
   ],
   "source": [
    "temp = train.iloc[1:3, 4:]\n",
    "print(temp)"
   ]
  },
  {
   "cell_type": "code",
   "execution_count": 39,
   "id": "3c31e9de",
   "metadata": {},
   "outputs": [],
   "source": [
    "#split into samples \n",
    "X_train, y_train = split_series(train,n_past, n_future)\n",
    "#print(X_train)\n",
    "#print(y_train)\n",
    "X_train = X_train.reshape((X_train.shape[0], X_train.shape[1],n_features_train))\n",
    "y_train = y_train.reshape((y_train.shape[0], y_train.shape[1], n_features_predict))\n",
    "X_test, y_test = split_series(test,n_past, n_future)\n",
    "X_test = X_test.reshape((X_test.shape[0], X_test.shape[1],n_features_train))\n",
    "y_test = y_test.reshape((y_test.shape[0], y_test.shape[1], n_features_predict))"
   ]
  },
  {
   "cell_type": "code",
   "execution_count": 40,
   "id": "11e847e4",
   "metadata": {},
   "outputs": [
    {
     "name": "stdout",
     "output_type": "stream",
     "text": [
      "Model: \"model_1\"\n",
      "__________________________________________________________________________________________________\n",
      " Layer (type)                   Output Shape         Param #     Connected to                     \n",
      "==================================================================================================\n",
      " input_2 (InputLayer)           [(None, 10, 4)]      0           []                               \n",
      "                                                                                                  \n",
      " lstm_2 (LSTM)                  [(None, 4),          144         ['input_2[0][0]']                \n",
      "                                 (None, 4),                                                       \n",
      "                                 (None, 4)]                                                       \n",
      "                                                                                                  \n",
      " repeat_vector_1 (RepeatVector)  (None, 5, 4)        0           ['lstm_2[0][0]']                 \n",
      "                                                                                                  \n",
      " lstm_3 (LSTM)                  (None, 5, 4)         144         ['repeat_vector_1[0][0]',        \n",
      "                                                                  'lstm_2[0][1]',                 \n",
      "                                                                  'lstm_2[0][2]']                 \n",
      "                                                                                                  \n",
      " time_distributed_1 (TimeDistri  (None, 5, 1)        5           ['lstm_3[0][0]']                 \n",
      " buted)                                                                                           \n",
      "                                                                                                  \n",
      "==================================================================================================\n",
      "Total params: 293\n",
      "Trainable params: 293\n",
      "Non-trainable params: 0\n",
      "__________________________________________________________________________________________________\n"
     ]
    }
   ],
   "source": [
    "#Now we will create two models in the below-mentioned architecture.\n",
    "#E1D1 ==> Sequence to Sequence Model with one encoder layer and one decoder layer.\n",
    "\n",
    "# E1D1\n",
    "# n_features ==> no of features at each timestep in the data.\n",
    "#\n",
    "encoder_inputs = tf.keras.layers.Input(shape=(n_past, n_features_train))\n",
    "encoder_l1 = tf.keras.layers.LSTM(4, return_state=True)\n",
    "#reduce to smaller number, dimensionality\n",
    "encoder_outputs1 = encoder_l1(encoder_inputs)\n",
    "\n",
    "encoder_states1 = encoder_outputs1[1:]\n",
    "\n",
    "#\n",
    "decoder_inputs = tf.keras.layers.RepeatVector(n_future)(encoder_outputs1[0])\n",
    "\n",
    "#\n",
    "decoder_l1 = tf.keras.layers.LSTM(4, return_sequences=True)(decoder_inputs,initial_state = encoder_states1)\n",
    "#reduce dimensionality\n",
    "decoder_outputs1 = tf.keras.layers.TimeDistributed(tf.keras.layers.Dense(n_features_predict))(decoder_l1)\n",
    "\n",
    "#\n",
    "model_e1d1 = tf.keras.models.Model(encoder_inputs,decoder_outputs1)\n",
    "\n",
    "#\n",
    "model_e1d1.summary()"
   ]
  },
  {
   "cell_type": "code",
   "execution_count": 41,
   "id": "954891bc",
   "metadata": {},
   "outputs": [
    {
     "data": {
      "text/plain": [
       "'\\nencoder_inputs = tf.keras.layers.Input(shape=(n_past, n_features))\\nencoder_l1 = tf.keras.layers.LSTM(100,return_sequences = True, return_state=True)\\nencoder_outputs1 = encoder_l1(encoder_inputs)\\nencoder_states1 = encoder_outputs1[1:]\\nencoder_l2 = tf.keras.layers.LSTM(100, return_state=True)\\nencoder_outputs2 = encoder_l2(encoder_outputs1[0])\\nencoder_states2 = encoder_outputs2[1:]\\n#\\ndecoder_inputs = tf.keras.layers.RepeatVector(n_future)(encoder_outputs2[0])\\n#\\ndecoder_l1 = tf.keras.layers.LSTM(100, return_sequences=True)(decoder_inputs,initial_state = encoder_states1)\\ndecoder_l2 = tf.keras.layers.LSTM(100, return_sequences=True)(decoder_l1,initial_state = encoder_states2)\\ndecoder_outputs2 = tf.keras.layers.TimeDistributed(tf.keras.layers.Dense(n_features))(decoder_l2)\\n#\\nmodel_e2d2 = tf.keras.models.Model(encoder_inputs,decoder_outputs2)\\n#\\nmodel_e2d2.summary()\\n'"
      ]
     },
     "execution_count": 41,
     "metadata": {},
     "output_type": "execute_result"
    }
   ],
   "source": [
    "#not going to use, worried about overfiting the model\n",
    "\n",
    "#E2D2 ==> Sequence to Sequence Model with two encoder layers and two decoder layers.\n",
    "\n",
    "# E2D2\n",
    "# n_features ==> no of features at each timestep in the data.\n",
    "#\n",
    "'''\n",
    "encoder_inputs = tf.keras.layers.Input(shape=(n_past, n_features))\n",
    "encoder_l1 = tf.keras.layers.LSTM(100,return_sequences = True, return_state=True)\n",
    "encoder_outputs1 = encoder_l1(encoder_inputs)\n",
    "encoder_states1 = encoder_outputs1[1:]\n",
    "encoder_l2 = tf.keras.layers.LSTM(100, return_state=True)\n",
    "encoder_outputs2 = encoder_l2(encoder_outputs1[0])\n",
    "encoder_states2 = encoder_outputs2[1:]\n",
    "#\n",
    "decoder_inputs = tf.keras.layers.RepeatVector(n_future)(encoder_outputs2[0])\n",
    "#\n",
    "decoder_l1 = tf.keras.layers.LSTM(100, return_sequences=True)(decoder_inputs,initial_state = encoder_states1)\n",
    "decoder_l2 = tf.keras.layers.LSTM(100, return_sequences=True)(decoder_l1,initial_state = encoder_states2)\n",
    "decoder_outputs2 = tf.keras.layers.TimeDistributed(tf.keras.layers.Dense(n_features))(decoder_l2)\n",
    "#\n",
    "model_e2d2 = tf.keras.models.Model(encoder_inputs,decoder_outputs2)\n",
    "#\n",
    "model_e2d2.summary()\n",
    "'''"
   ]
  },
  {
   "cell_type": "code",
   "execution_count": 42,
   "id": "9018f8da",
   "metadata": {},
   "outputs": [
    {
     "data": {
      "text/plain": [
       "'\\nhistory = model_e1d1.fit(X_train, # input data\\n                    y_train, # target data\\n                    batch_size=1, # Number of samples per gradient update. If unspecified, batch_size will default to 32.\\n                    epochs=10, # default=1, Number of epochs to train the model. An epoch is an iteration over the entire x and y data provided\\n                    verbose=1, # default=\\'auto\\', (\\'auto\\', 0, 1, or 2). Verbosity mode. 0 = silent, 1 = progress bar, 2 = one line per epoch. \\'auto\\' defaults to 1 for most cases, but 2 when used with ParameterServerStrategy.\\n                    callbacks=[WandbCallback()], # default=None, list of callbacks to apply during training. See tf.keras.callbacks\\n                    #callbacks=[WandbCallback()]\\n                    validation_split=0.2, # default=0.0, Fraction of the training data to be used as validation data. The model will set apart this fraction of the training data, will not train on it, and will evaluate the loss and any model metrics on this data at the end of each epoch. \\n                    validation_data=(X_test, y_test), # default=None, Data on which to evaluate the loss and any model metrics at the end of each epoch. \\n                    shuffle=True, # default=True, Boolean (whether to shuffle the training data before each epoch) or str (for \\'batch\\').\\n                    class_weight=None, # default=None, Optional dictionary mapping class indices (integers) to a weight (float) value, used for weighting the loss function (during training only). This can be useful to tell the model to \"pay more attention\" to samples from an under-represented class.\\n                    sample_weight=None, # default=None, Optional Numpy array of weights for the training samples, used for weighting the loss function (during training only).\\n                    initial_epoch=0, # Integer, default=0, Epoch at which to start training (useful for resuming a previous training run).\\n                    steps_per_epoch=None, # Integer or None, default=None, Total number of steps (batches of samples) before declaring one epoch finished and starting the next epoch. When training with input tensors such as TensorFlow data tensors, the default None is equal to the number of samples in your dataset divided by the batch size, or 1 if that cannot be determined. \\n                    validation_steps=None, # Only relevant if validation_data is provided and is a tf.data dataset. Total number of steps (batches of samples) to draw before stopping when performing validation at the end of every epoch.\\n                    validation_batch_size=None, # Integer or None, default=None, Number of samples per validation batch. If unspecified, will default to batch_size.\\n                    validation_freq=100, # default=1, Only relevant if validation data is provided. If an integer, specifies how many training epochs to run before a new validation run is performed, e.g. validation_freq=2 runs validation every 2 epochs.\\n                    max_queue_size=10, # default=10, Used for generator or keras.utils.Sequence input only. Maximum size for the generator queue. If unspecified, max_queue_size will default to 10.\\n                    workers=1, # default=1, Used for generator or keras.utils.Sequence input only. Maximum number of processes to spin up when using process-based threading. If unspecified, workers will default to 1.\\n                    use_multiprocessing=True, # default=False, Used for generator or keras.utils.Sequence input only. If True, use process-based threading. If unspecified, use_multiprocessing will default to False. \\n                   )\\n                '"
      ]
     },
     "execution_count": 42,
     "metadata": {},
     "output_type": "execute_result"
    }
   ],
   "source": [
    "#one fit method don't do both\n",
    "'''\n",
    "history = model_e1d1.fit(X_train, # input data\n",
    "                    y_train, # target data\n",
    "                    batch_size=1, # Number of samples per gradient update. If unspecified, batch_size will default to 32.\n",
    "                    epochs=10, # default=1, Number of epochs to train the model. An epoch is an iteration over the entire x and y data provided\n",
    "                    verbose=1, # default='auto', ('auto', 0, 1, or 2). Verbosity mode. 0 = silent, 1 = progress bar, 2 = one line per epoch. 'auto' defaults to 1 for most cases, but 2 when used with ParameterServerStrategy.\n",
    "                    callbacks=[WandbCallback()], # default=None, list of callbacks to apply during training. See tf.keras.callbacks\n",
    "                    #callbacks=[WandbCallback()]\n",
    "                    validation_split=0.2, # default=0.0, Fraction of the training data to be used as validation data. The model will set apart this fraction of the training data, will not train on it, and will evaluate the loss and any model metrics on this data at the end of each epoch. \n",
    "                    validation_data=(X_test, y_test), # default=None, Data on which to evaluate the loss and any model metrics at the end of each epoch. \n",
    "                    shuffle=True, # default=True, Boolean (whether to shuffle the training data before each epoch) or str (for 'batch').\n",
    "                    class_weight=None, # default=None, Optional dictionary mapping class indices (integers) to a weight (float) value, used for weighting the loss function (during training only). This can be useful to tell the model to \"pay more attention\" to samples from an under-represented class.\n",
    "                    sample_weight=None, # default=None, Optional Numpy array of weights for the training samples, used for weighting the loss function (during training only).\n",
    "                    initial_epoch=0, # Integer, default=0, Epoch at which to start training (useful for resuming a previous training run).\n",
    "                    steps_per_epoch=None, # Integer or None, default=None, Total number of steps (batches of samples) before declaring one epoch finished and starting the next epoch. When training with input tensors such as TensorFlow data tensors, the default None is equal to the number of samples in your dataset divided by the batch size, or 1 if that cannot be determined. \n",
    "                    validation_steps=None, # Only relevant if validation_data is provided and is a tf.data dataset. Total number of steps (batches of samples) to draw before stopping when performing validation at the end of every epoch.\n",
    "                    validation_batch_size=None, # Integer or None, default=None, Number of samples per validation batch. If unspecified, will default to batch_size.\n",
    "                    validation_freq=100, # default=1, Only relevant if validation data is provided. If an integer, specifies how many training epochs to run before a new validation run is performed, e.g. validation_freq=2 runs validation every 2 epochs.\n",
    "                    max_queue_size=10, # default=10, Used for generator or keras.utils.Sequence input only. Maximum size for the generator queue. If unspecified, max_queue_size will default to 10.\n",
    "                    workers=1, # default=1, Used for generator or keras.utils.Sequence input only. Maximum number of processes to spin up when using process-based threading. If unspecified, workers will default to 1.\n",
    "                    use_multiprocessing=True, # default=False, Used for generator or keras.utils.Sequence input only. If True, use process-based threading. If unspecified, use_multiprocessing will default to False. \n",
    "                   )\n",
    "                '''"
   ]
  },
  {
   "cell_type": "code",
   "execution_count": 43,
   "id": "e05068b8",
   "metadata": {},
   "outputs": [
    {
     "data": {
      "text/plain": [
       "\"\\nmodel_e2d2.compile(\\n    optimizer='adam',\\n    loss='mean_squared_error',\\n    metrics=[\\n        tf.keras.metrics.MeanSquaredError(),\\n        tf.keras.metrics.Accuracy(),\\n        tf.keras.metrics.MeanAbsoluteError(),\\n    ]\\n)\\n\""
      ]
     },
     "execution_count": 43,
     "metadata": {},
     "output_type": "execute_result"
    }
   ],
   "source": [
    "#fit data other attempt with different metrics\n",
    "#reduce_lr = tf.keras.callbacks.LearningRateScheduler(lambda x: 1e-3 * 0.90 ** x)\n",
    "#model_e1d1.compile(optimizer=tf.keras.optimizers.Adam(), loss=tf.keras.losses.Huber())\n",
    "model_e1d1.compile(\n",
    "    optimizer='adam',\n",
    "    loss=tf.keras.losses.Huber(),\n",
    "    metrics=[\n",
    "        tf.keras.metrics.MeanSquaredError(),\n",
    "        tf.keras.metrics.MeanAbsoluteError(),\n",
    "    ]\n",
    ")\n",
    "#no validation data so i can test accuracy\n",
    "#history_e1d1=model_e1d1.fit(X_train,y_train,epochs=25,batch_size=32,verbose=0,callbacks=[WandbCallback()])\n",
    "history_e1d1=model_e1d1.fit(X_train,y_train,epochs=25,validation_data=(X_test,y_test),batch_size=32,verbose=0,callbacks=[WandbCallback()])\n",
    "#model_e2d2.compile(optimizer=tf.keras.optimizers.Adam(), loss=tf.keras.losses.Huber())\n",
    "'''\n",
    "model_e2d2.compile(\n",
    "    optimizer='adam',\n",
    "    loss='mean_squared_error',\n",
    "    metrics=[\n",
    "        tf.keras.metrics.MeanSquaredError(),\n",
    "        tf.keras.metrics.Accuracy(),\n",
    "        tf.keras.metrics.MeanAbsoluteError(),\n",
    "    ]\n",
    ")\n",
    "'''\n",
    "#history_e2d2=model_e2d2.fit(X_train,y_train,epochs=25,validation_data=(X_test,y_test),batch_size=32,verbose=0,callbacks=[WandbCallback()])"
   ]
  },
  {
   "cell_type": "code",
   "execution_count": 44,
   "id": "4a4d7472",
   "metadata": {},
   "outputs": [
    {
     "name": "stdout",
     "output_type": "stream",
     "text": [
      "12/12 [==============================] - 1s 3ms/step\n",
      "[[[3.8793116]\n",
      "  [7.1417665]\n",
      "  [8.448098 ]\n",
      "  [8.668506 ]\n",
      "  [8.700203 ]]\n",
      "\n",
      " [[3.8793116]\n",
      "  [7.1417665]\n",
      "  [8.448098 ]\n",
      "  [8.668506 ]\n",
      "  [8.700203 ]]\n",
      "\n",
      " [[3.8793116]\n",
      "  [7.1417665]\n",
      "  [8.448098 ]\n",
      "  [8.668506 ]\n",
      "  [8.700203 ]]\n",
      "\n",
      " ...\n",
      "\n",
      " [[      nan]\n",
      "  [      nan]\n",
      "  [      nan]\n",
      "  [      nan]\n",
      "  [      nan]]\n",
      "\n",
      " [[      nan]\n",
      "  [      nan]\n",
      "  [      nan]\n",
      "  [      nan]\n",
      "  [      nan]]\n",
      "\n",
      " [[      nan]\n",
      "  [      nan]\n",
      "  [      nan]\n",
      "  [      nan]\n",
      "  [      nan]]]\n",
      "[[[ 550.227417]\n",
      "  [ 579.372498]\n",
      "  [ 609.98761 ]\n",
      "  [ 621.173401]\n",
      "  [ 605.094177]]\n",
      "\n",
      " [[ 579.372498]\n",
      "  [ 609.98761 ]\n",
      "  [ 621.173401]\n",
      "  [ 605.094177]\n",
      "  [ 575.641479]]\n",
      "\n",
      " [[ 609.98761 ]\n",
      "  [ 621.173401]\n",
      "  [ 605.094177]\n",
      "  [ 575.641479]\n",
      "  [ 530.777161]]\n",
      "\n",
      " ...\n",
      "\n",
      " [[4530.99707 ]\n",
      "  [4640.921875]\n",
      "  [4822.363281]\n",
      "  [4837.589355]\n",
      "  [4859.50293 ]]\n",
      "\n",
      " [[4640.921875]\n",
      "  [4822.363281]\n",
      "  [4837.589355]\n",
      "  [4859.50293 ]\n",
      "  [4778.059082]]\n",
      "\n",
      " [[4822.363281]\n",
      "  [4837.589355]\n",
      "  [4859.50293 ]\n",
      "  [4778.059082]\n",
      "  [4808.73877 ]]]\n"
     ]
    }
   ],
   "source": [
    "##### Step 6 - Use model to make predictions\n",
    "# Predict results on training data\n",
    "pred_e1d1 = model_e1d1.predict(X_test)\n",
    "print(pred_e1d1)\n",
    "print(y_test)"
   ]
  },
  {
   "cell_type": "code",
   "execution_count": 50,
   "id": "4d9024db",
   "metadata": {},
   "outputs": [
    {
     "name": "stdout",
     "output_type": "stream",
     "text": [
      "Total error sum: 347.2191431093455\n",
      "Total count of predicted values: 1740\n",
      "Mean percent error: 0.19955123167203764\n"
     ]
    }
   ],
   "source": [
    "#compare the pred_e1d1 and y_test\n",
    "#print(y_test.shape)\n",
    "\n",
    "def find_error(real, predicted):\n",
    "    for i in range(5):\n",
    "        return (abs(predicted[i]-real[i])/real[i])\n",
    "\n",
    "count=0\n",
    "sum=0\n",
    "for i in range(348):\n",
    "    acc = find_error(y_test[i].flatten().tolist(),pred_e1d1[i].flatten().tolist())\n",
    "    #print(acc)\n",
    "    sum += acc\n",
    "    count += 5\n",
    "\n",
    "print(\"Total error sum: \" + str(sum))\n",
    "print(\"Total count of predicted values: \" + str(count))\n",
    "print(\"Mean percent error: \" + str(sum/count))"
   ]
  },
  {
   "cell_type": "code",
   "execution_count": 46,
   "id": "37af4014",
   "metadata": {},
   "outputs": [
    {
     "name": "stdout",
     "output_type": "stream",
     "text": [
      "(2, 2, 4)\n",
      "tf.Tensor([[[25 27]]], shape=(1, 1, 2), dtype=int32)\n",
      "(353, 10, 4)\n",
      "tf.Tensor(\n",
      "[[[3.9045862e+05 3.0800000e+03 3.2400000e+02 1.8410000e+03]\n",
      "  [1.0079416e+06 1.6955000e+04 2.8700000e+02 1.5316000e+04]\n",
      "  [4.5275247e+05 3.3660000e+03 2.2700000e+02 1.5120000e+03]\n",
      "  ...\n",
      "  [3.1234050e+05 2.5590000e+03 4.7200000e+02 1.1740000e+03]\n",
      "  [3.6883125e+05 3.0430000e+03 1.8800000e+02 1.6240000e+03]\n",
      "  [2.7230009e+05 2.3700000e+03 1.6800000e+02 1.2580000e+03]]\n",
      "\n",
      " [[1.0079416e+06 1.6955000e+04 2.8700000e+02 1.5316000e+04]\n",
      "  [4.5275247e+05 3.3660000e+03 2.2700000e+02 1.5120000e+03]\n",
      "  [4.4918834e+05 4.1500000e+03 3.6500000e+02 2.3450000e+03]\n",
      "  ...\n",
      "  [3.6883125e+05 3.0430000e+03 1.8800000e+02 1.6240000e+03]\n",
      "  [2.7230009e+05 2.3700000e+03 1.6800000e+02 1.2580000e+03]\n",
      "  [6.5216988e+05 2.4580000e+03 1.5600000e+02 1.4150000e+03]]\n",
      "\n",
      " [[4.5275247e+05 3.3660000e+03 2.2700000e+02 1.5120000e+03]\n",
      "  [4.4918834e+05 4.1500000e+03 3.6500000e+02 2.3450000e+03]\n",
      "  [3.7104938e+05 3.8200000e+03 3.3800000e+02 1.9620000e+03]\n",
      "  ...\n",
      "  [2.7230009e+05 2.3700000e+03 1.6800000e+02 1.2580000e+03]\n",
      "  [6.5216988e+05 2.4580000e+03 1.5600000e+02 1.4150000e+03]\n",
      "  [3.5287438e+05 2.5380000e+03 2.5900000e+02 1.4420000e+03]]\n",
      "\n",
      " ...\n",
      "\n",
      " [[5.5199156e+07 4.2603000e+04 1.1107000e+04 2.2491000e+04]\n",
      "  [1.0556937e+08 1.2208900e+05 4.9690000e+03 8.1681000e+04]\n",
      "  [7.3636768e+07 1.1730800e+05 1.3170000e+03 6.9720000e+04]\n",
      "  ...\n",
      "  [4.2368644e+07 2.7190000e+04 7.3740000e+03 1.4021000e+04]\n",
      "  [1.3462667e+08 5.3294000e+04 3.6470000e+03 4.9274000e+04]\n",
      "  [6.6341040e+07 5.3472000e+04 6.2860000e+03 3.5765000e+04]]\n",
      "\n",
      " [[1.0556937e+08 1.2208900e+05 4.9690000e+03 8.1681000e+04]\n",
      "  [7.3636768e+07 1.1730800e+05 1.3170000e+03 6.9720000e+04]\n",
      "  [5.0577444e+07 4.0139000e+04 8.9320000e+03 1.8888000e+04]\n",
      "  ...\n",
      "  [1.3462667e+08 5.3294000e+04 3.6470000e+03 4.9274000e+04]\n",
      "  [6.6341040e+07 5.3472000e+04 6.2860000e+03 3.5765000e+04]\n",
      "  [3.5538772e+07 1.3646000e+04 6.4200000e+03 1.2106000e+04]]\n",
      "\n",
      " [[7.3636768e+07 1.1730800e+05 1.3170000e+03 6.9720000e+04]\n",
      "  [5.0577444e+07 4.0139000e+04 8.9320000e+03 1.8888000e+04]\n",
      "  [4.2517028e+07 3.1365000e+04 3.6180000e+03 1.5670000e+04]\n",
      "  ...\n",
      "  [6.6341040e+07 5.3472000e+04 6.2860000e+03 3.5765000e+04]\n",
      "  [3.5538772e+07 1.3646000e+04 6.4200000e+03 1.2106000e+04]\n",
      "  [8.2613312e+07 6.7388000e+04 5.3700000e+03 4.6997000e+04]]], shape=(348, 10, 4), dtype=float32)\n"
     ]
    }
   ],
   "source": [
    "#slicing the tensor to avoid the nan\n",
    "t3 = tf.constant([[[1, 3, 5, 7],\n",
    "                   [9, 11, 13, 15]],\n",
    "                  [[17, 19, 21, 23],\n",
    "                   [25, 27, 29, 31]]\n",
    "                  ])\n",
    "print(t3.shape)\n",
    "\n",
    "print(tf.slice(t3,\n",
    "               begin=[1, 1, 0],\n",
    "               size=[1, 1, 2]))\n",
    "print(X_test.shape)\n",
    "\n",
    "print(tf.slice(X_test, begin=[0,0,0],size=[348,10,4]))"
   ]
  },
  {
   "cell_type": "code",
   "execution_count": 47,
   "id": "001f6414",
   "metadata": {},
   "outputs": [
    {
     "name": "stdout",
     "output_type": "stream",
     "text": [
      "(353, 10, 4)\n",
      "3/3 [==============================] - 1s 4ms/step - loss: 2375.8560 - mean_squared_error: 6762150.0000 - mean_absolute_error: 2376.3560\n",
      "test loss, test acc: [2375.85595703125, 6762150.0, 2376.35595703125]\n"
     ]
    }
   ],
   "source": [
    "#evaluate\n",
    "print(X_test.shape)\n",
    "results = model_e1d1.evaluate(tf.slice(X_test, begin=[0,0,0],size=[348,10,4]), tf.slice(y_test, begin=[0,0,0],size=[348,5,1]), batch_size=128)\n",
    "print(\"test loss, test acc:\", results)"
   ]
  },
  {
   "cell_type": "code",
   "execution_count": 48,
   "id": "d6b508b9",
   "metadata": {},
   "outputs": [
    {
     "name": "stdout",
     "output_type": "stream",
     "text": [
      "dict_keys(['loss', 'mean_squared_error', 'mean_absolute_error', 'val_loss', 'val_mean_squared_error', 'val_mean_absolute_error'])\n"
     ]
    }
   ],
   "source": [
    "# list all data in history\n",
    "print(history_e1d1.history.keys())"
   ]
  },
  {
   "cell_type": "code",
   "execution_count": 49,
   "id": "8beabd8f",
   "metadata": {
    "scrolled": true
   },
   "outputs": [
    {
     "name": "stdout",
     "output_type": "stream",
     "text": [
      "dict_keys(['loss', 'mean_squared_error', 'mean_absolute_error', 'val_loss', 'val_mean_squared_error', 'val_mean_absolute_error'])\n"
     ]
    },
    {
     "data": {
      "image/png": "[encoded data removed]",
      "text/plain": [
       "<Figure size 576x576 with 1 Axes>"
      ]
     },
     "metadata": {
      "needs_background": "light"
     },
     "output_type": "display_data"
    },
    {
     "data": {
      "text/plain": [
       "<Figure size 432x288 with 0 Axes>"
      ]
     },
     "metadata": {},
     "output_type": "display_data"
    },
    {
     "data": {
      "image/png": "[encoded data removed]",
      "text/plain": [
       "<Figure size 576x576 with 1 Axes>"
      ]
     },
     "metadata": {
      "needs_background": "light"
     },
     "output_type": "display_data"
    },
    {
     "data": {
      "text/plain": [
       "<Figure size 432x288 with 0 Axes>"
      ]
     },
     "metadata": {},
     "output_type": "display_data"
    }
   ],
   "source": [
    "# Visualize training history\n",
    "\n",
    "# list all data in history\n",
    "print(history_e1d1.history.keys())\n",
    "# summarize history for MSE\n",
    "f = plt.figure()\n",
    "f.set_figwidth(8)\n",
    "f.set_figheight(8)\n",
    "plt.plot(history_e1d1.history['mean_squared_error'])\n",
    "plt.plot(history_e1d1.history['val_mean_squared_error'])\n",
    "plt.title('model mean squared error')\n",
    "plt.ylabel('MSE')\n",
    "plt.xlabel('epoch')\n",
    "plt.ylim(0, 0.8)\n",
    "plt.legend(['train', 'test'], loc='upper left')\n",
    "plt.show()\n",
    "plt.savefig('../visuals/model_e1d1_MSE_plot.png')\n",
    "# summarize history for loss\n",
    "'''\n",
    "plt.plot(history_e1d1.history['loss'])\n",
    "plt.plot(history_e1d1.history['val_loss'])\n",
    "plt.title('model loss')\n",
    "plt.ylabel('loss')\n",
    "plt.xlabel('epoch')\n",
    "plt.legend(['train', 'test'], loc='upper left')\n",
    "plt.show()\n",
    "'''\n",
    "# summarize history for MSE\n",
    "f = plt.figure()\n",
    "f.set_figwidth(8)\n",
    "f.set_figheight(8)\n",
    "plt.plot(history_e1d1.history['mean_absolute_error'])\n",
    "plt.plot(history_e1d1.history['val_mean_absolute_error'])\n",
    "plt.title('model mean absolute error')\n",
    "plt.ylabel('MAE')\n",
    "plt.xlabel('epoch')\n",
    "plt.ylim(0, 0.8)\n",
    "plt.legend(['train', 'test'], loc='upper left')\n",
    "plt.show()\n",
    "plt.savefig('../visuals/model_e1d1_MAE_plot.png')"
   ]
  },
  {
   "cell_type": "markdown",
   "id": "cfbe0c5d",
   "metadata": {},
   "source": [
    "# Graphing and visualization time\n",
    "idk what these are telling us but don't they look fun?"
   ]
  },
  {
   "cell_type": "code",
   "execution_count": 45,
   "id": "8d36e9c2",
   "metadata": {},
   "outputs": [
    {
     "data": {
      "image/svg+xml": [
       "<?xml version=\"1.0\" encoding=\"UTF-8\" standalone=\"no\"?>\n",
       "<!DOCTYPE svg PUBLIC \"-//W3C//DTD SVG 1.1//EN\"\n",
       " \"http://www.w3.org/Graphics/SVG/1.1/DTD/svg11.dtd\">\n",
       "<!-- Generated by graphviz version 7.0.3 (20221126.0506)\n",
       " -->\n",
       "<!-- Pages: 1 -->\n",
       "<svg width=\"62pt\" height=\"116pt\"\n",
       " viewBox=\"0.00 0.00 62.00 116.00\" xmlns=\"http://www.w3.org/2000/svg\" xmlns:xlink=\"http://www.w3.org/1999/xlink\">\n",
       "<g id=\"graph0\" class=\"graph\" transform=\"scale(1 1) rotate(0) translate(4 112)\">\n",
       "<polygon fill=\"white\" stroke=\"none\" points=\"-4,4 -4,-112 58,-112 58,4 -4,4\"/>\n",
       "<!-- 1 -->\n",
       "<g id=\"node1\" class=\"node\">\n",
       "<title>1</title>\n",
       "<ellipse fill=\"none\" stroke=\"black\" cx=\"27\" cy=\"-90\" rx=\"27\" ry=\"18\"/>\n",
       "<text text-anchor=\"middle\" x=\"27\" y=\"-86.3\" font-family=\"Times New Roman,serif\" font-size=\"14.00\">1</text>\n",
       "</g>\n",
       "<!-- 2 -->\n",
       "<g id=\"node2\" class=\"node\">\n",
       "<title>2</title>\n",
       "<ellipse fill=\"none\" stroke=\"black\" cx=\"27\" cy=\"-18\" rx=\"27\" ry=\"18\"/>\n",
       "<text text-anchor=\"middle\" x=\"27\" y=\"-14.3\" font-family=\"Times New Roman,serif\" font-size=\"14.00\">2</text>\n",
       "</g>\n",
       "<!-- 1&#45;&gt;2 -->\n",
       "<g id=\"edge1\" class=\"edge\">\n",
       "<title>1&#45;&gt;2</title>\n",
       "<path fill=\"none\" stroke=\"black\" d=\"M27,-71.7C27,-64.41 27,-55.73 27,-47.54\"/>\n",
       "<polygon fill=\"black\" stroke=\"black\" points=\"30.5,-47.62 27,-37.62 23.5,-47.62 30.5,-47.62\"/>\n",
       "</g>\n",
       "</g>\n",
       "</svg>\n"
      ],
      "text/plain": [
       "<graphviz.graphs.Digraph at 0x29728806820>"
      ]
     },
     "execution_count": 45,
     "metadata": {},
     "output_type": "execute_result"
    }
   ],
   "source": [
    "#run this to check that graphviz is working\n",
    "from graphviz import Digraph\n",
    "\n",
    "dot = Digraph()\n",
    "dot.node('1')\n",
    "dot.node('2')\n",
    "dot.edges(['12'])\n",
    "dot"
   ]
  },
  {
   "cell_type": "code",
   "execution_count": 10,
   "id": "9db94dbb",
   "metadata": {},
   "outputs": [
    {
     "data": {
      "image/png": "[encoded data removed]",
      "text/plain": [
       "<IPython.core.display.Image object>"
      ]
     },
     "execution_count": 10,
     "metadata": {},
     "output_type": "execute_result"
    }
   ],
   "source": [
    "#graph model attempts\n",
    "import pydot\n",
    "from keras.utils.vis_utils import plot_model\n",
    "import graphviz\n",
    "\n",
    "plot_model(model_e1d1, to_file='../visuals/model_e1d1_plot.png', show_shapes=True, show_layer_names=True)"
   ]
  },
  {
   "cell_type": "code",
   "execution_count": 47,
   "id": "d12e529f",
   "metadata": {},
   "outputs": [
    {
     "data": {
      "image/png": "[encoded data removed]",
      "text/plain": [
       "<IPython.core.display.Image object>"
      ]
     },
     "execution_count": 47,
     "metadata": {},
     "output_type": "execute_result"
    }
   ],
   "source": [
    "#plotting E2D2\n",
    "plot_model(model_e2d2, to_file='../visuals/model_e2d2_plot.png', show_shapes=True, show_layer_names=True)"
   ]
  },
  {
   "cell_type": "code",
   "execution_count": null,
   "id": "437fad24",
   "metadata": {},
   "outputs": [],
   "source": []
  }
 ],
 "metadata": {
  "kernelspec": {
   "display_name": "Python 3 (ipykernel)",
   "language": "python",
   "name": "python3"
  },
  "language_info": {
   "codemirror_mode": {
    "name": "ipython",
    "version": 3
   },
   "file_extension": ".py",
   "mimetype": "text/x-python",
   "name": "python",
   "nbconvert_exporter": "python",
   "pygments_lexer": "ipython3",
   "version": "3.9.12"
  }
 },
 "nbformat": 4,
 "nbformat_minor": 5
}
