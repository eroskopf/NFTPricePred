{
  "cells": [
    {
      "cell_type": "code",
      "source": [
        "from google.colab import drive\n",
        "drive.mount('/content/drive')"
      ],
      "metadata": {
        "colab": {
          "base_uri": "https://localhost:8080/"
        },
        "id": "NzhROhg_iGIm",
        "outputId": "d72e44a1-7657-472f-a286-17e0425dca95"
      },
      "id": "NzhROhg_iGIm",
      "execution_count": 2,
      "outputs": [
        {
          "output_type": "stream",
          "name": "stdout",
          "text": [
            "Mounted at /content/drive\n"
          ]
        }
      ]
    },
    {
      "cell_type": "code",
      "execution_count": 3,
      "id": "7a8c49c7",
      "metadata": {
        "id": "7a8c49c7"
      },
      "outputs": [],
      "source": [
        "import pandas as pd\n",
        "import numpy as np\n",
        "import matplotlib.pyplot as plt\n",
        "import sklearn\n",
        "import seaborn as sns"
      ]
    },
    {
      "cell_type": "code",
      "execution_count": 4,
      "id": "4ab53375",
      "metadata": {
        "id": "4ab53375",
        "outputId": "78572a1a-b651-4d06-9e2a-1242767bff98",
        "colab": {
          "base_uri": "https://localhost:8080/",
          "height": 424
        }
      },
      "outputs": [
        {
          "output_type": "execute_result",
          "data": {
            "text/plain": [
              "      Unnamed: 0        Date  Number_of_sales  Active_markets_wallets  \\\n",
              "0              0  2017-11-09     1.482700e+02                     2.0   \n",
              "1              1  2017-11-10     0.000000e+00                     0.0   \n",
              "2              2  2017-11-11     0.000000e+00                     0.0   \n",
              "3              3  2017-11-12     9.111000e+01                     1.0   \n",
              "4              4  2017-11-13     6.307000e+01                     2.0   \n",
              "...          ...         ...              ...                     ...   \n",
              "1461        1461  2021-11-08     7.706698e+07                 59264.0   \n",
              "1462        1462  2021-11-09     5.197508e+07                 50879.0   \n",
              "1463        1463  2021-11-10     5.901034e+07                 44822.0   \n",
              "1464        1464  2021-11-11     3.554317e+07                 13935.0   \n",
              "1465        1465  2021-11-12    -6.196720e+06                 -2195.0   \n",
              "\n",
              "      Primary_sales  ETH_high_price    Sales_USD  \n",
              "0               0.0             0.0   329.451996  \n",
              "1               0.0             0.0   324.717987  \n",
              "2               0.0             0.0   319.453003  \n",
              "3               0.0             0.0   319.153015  \n",
              "4               2.0             0.0   328.415009  \n",
              "...             ...             ...          ...  \n",
              "1461            0.0         44435.0  4822.363281  \n",
              "1462            0.0         32156.0  4837.589355  \n",
              "1463            0.0         27694.0  4859.502930  \n",
              "1464            0.0          7808.0  4778.059082  \n",
              "1465            0.0         -1171.0  4808.738770  \n",
              "\n",
              "[1466 rows x 7 columns]"
            ],
            "text/html": [
              "\n",
              "  <div id=\"df-85c76641-ecab-4ec7-b3ff-fffb176b73dd\">\n",
              "    <div class=\"colab-df-container\">\n",
              "      <div>\n",
              "<style scoped>\n",
              "    .dataframe tbody tr th:only-of-type {\n",
              "        vertical-align: middle;\n",
              "    }\n",
              "\n",
              "    .dataframe tbody tr th {\n",
              "        vertical-align: top;\n",
              "    }\n",
              "\n",
              "    .dataframe thead th {\n",
              "        text-align: right;\n",
              "    }\n",
              "</style>\n",
              "<table border=\"1\" class=\"dataframe\">\n",
              "  <thead>\n",
              "    <tr style=\"text-align: right;\">\n",
              "      <th></th>\n",
              "      <th>Unnamed: 0</th>\n",
              "      <th>Date</th>\n",
              "      <th>Number_of_sales</th>\n",
              "      <th>Active_markets_wallets</th>\n",
              "      <th>Primary_sales</th>\n",
              "      <th>ETH_high_price</th>\n",
              "      <th>Sales_USD</th>\n",
              "    </tr>\n",
              "  </thead>\n",
              "  <tbody>\n",
              "    <tr>\n",
              "      <th>0</th>\n",
              "      <td>0</td>\n",
              "      <td>2017-11-09</td>\n",
              "      <td>1.482700e+02</td>\n",
              "      <td>2.0</td>\n",
              "      <td>0.0</td>\n",
              "      <td>0.0</td>\n",
              "      <td>329.451996</td>\n",
              "    </tr>\n",
              "    <tr>\n",
              "      <th>1</th>\n",
              "      <td>1</td>\n",
              "      <td>2017-11-10</td>\n",
              "      <td>0.000000e+00</td>\n",
              "      <td>0.0</td>\n",
              "      <td>0.0</td>\n",
              "      <td>0.0</td>\n",
              "      <td>324.717987</td>\n",
              "    </tr>\n",
              "    <tr>\n",
              "      <th>2</th>\n",
              "      <td>2</td>\n",
              "      <td>2017-11-11</td>\n",
              "      <td>0.000000e+00</td>\n",
              "      <td>0.0</td>\n",
              "      <td>0.0</td>\n",
              "      <td>0.0</td>\n",
              "      <td>319.453003</td>\n",
              "    </tr>\n",
              "    <tr>\n",
              "      <th>3</th>\n",
              "      <td>3</td>\n",
              "      <td>2017-11-12</td>\n",
              "      <td>9.111000e+01</td>\n",
              "      <td>1.0</td>\n",
              "      <td>0.0</td>\n",
              "      <td>0.0</td>\n",
              "      <td>319.153015</td>\n",
              "    </tr>\n",
              "    <tr>\n",
              "      <th>4</th>\n",
              "      <td>4</td>\n",
              "      <td>2017-11-13</td>\n",
              "      <td>6.307000e+01</td>\n",
              "      <td>2.0</td>\n",
              "      <td>2.0</td>\n",
              "      <td>0.0</td>\n",
              "      <td>328.415009</td>\n",
              "    </tr>\n",
              "    <tr>\n",
              "      <th>...</th>\n",
              "      <td>...</td>\n",
              "      <td>...</td>\n",
              "      <td>...</td>\n",
              "      <td>...</td>\n",
              "      <td>...</td>\n",
              "      <td>...</td>\n",
              "      <td>...</td>\n",
              "    </tr>\n",
              "    <tr>\n",
              "      <th>1461</th>\n",
              "      <td>1461</td>\n",
              "      <td>2021-11-08</td>\n",
              "      <td>7.706698e+07</td>\n",
              "      <td>59264.0</td>\n",
              "      <td>0.0</td>\n",
              "      <td>44435.0</td>\n",
              "      <td>4822.363281</td>\n",
              "    </tr>\n",
              "    <tr>\n",
              "      <th>1462</th>\n",
              "      <td>1462</td>\n",
              "      <td>2021-11-09</td>\n",
              "      <td>5.197508e+07</td>\n",
              "      <td>50879.0</td>\n",
              "      <td>0.0</td>\n",
              "      <td>32156.0</td>\n",
              "      <td>4837.589355</td>\n",
              "    </tr>\n",
              "    <tr>\n",
              "      <th>1463</th>\n",
              "      <td>1463</td>\n",
              "      <td>2021-11-10</td>\n",
              "      <td>5.901034e+07</td>\n",
              "      <td>44822.0</td>\n",
              "      <td>0.0</td>\n",
              "      <td>27694.0</td>\n",
              "      <td>4859.502930</td>\n",
              "    </tr>\n",
              "    <tr>\n",
              "      <th>1464</th>\n",
              "      <td>1464</td>\n",
              "      <td>2021-11-11</td>\n",
              "      <td>3.554317e+07</td>\n",
              "      <td>13935.0</td>\n",
              "      <td>0.0</td>\n",
              "      <td>7808.0</td>\n",
              "      <td>4778.059082</td>\n",
              "    </tr>\n",
              "    <tr>\n",
              "      <th>1465</th>\n",
              "      <td>1465</td>\n",
              "      <td>2021-11-12</td>\n",
              "      <td>-6.196720e+06</td>\n",
              "      <td>-2195.0</td>\n",
              "      <td>0.0</td>\n",
              "      <td>-1171.0</td>\n",
              "      <td>4808.738770</td>\n",
              "    </tr>\n",
              "  </tbody>\n",
              "</table>\n",
              "<p>1466 rows × 7 columns</p>\n",
              "</div>\n",
              "      <button class=\"colab-df-convert\" onclick=\"convertToInteractive('df-85c76641-ecab-4ec7-b3ff-fffb176b73dd')\"\n",
              "              title=\"Convert this dataframe to an interactive table.\"\n",
              "              style=\"display:none;\">\n",
              "        \n",
              "  <svg xmlns=\"http://www.w3.org/2000/svg\" height=\"24px\"viewBox=\"0 0 24 24\"\n",
              "       width=\"24px\">\n",
              "    <path d=\"M0 0h24v24H0V0z\" fill=\"none\"/>\n",
              "    <path d=\"M18.56 5.44l.94 2.06.94-2.06 2.06-.94-2.06-.94-.94-2.06-.94 2.06-2.06.94zm-11 1L8.5 8.5l.94-2.06 2.06-.94-2.06-.94L8.5 2.5l-.94 2.06-2.06.94zm10 10l.94 2.06.94-2.06 2.06-.94-2.06-.94-.94-2.06-.94 2.06-2.06.94z\"/><path d=\"M17.41 7.96l-1.37-1.37c-.4-.4-.92-.59-1.43-.59-.52 0-1.04.2-1.43.59L10.3 9.45l-7.72 7.72c-.78.78-.78 2.05 0 2.83L4 21.41c.39.39.9.59 1.41.59.51 0 1.02-.2 1.41-.59l7.78-7.78 2.81-2.81c.8-.78.8-2.07 0-2.86zM5.41 20L4 18.59l7.72-7.72 1.47 1.35L5.41 20z\"/>\n",
              "  </svg>\n",
              "      </button>\n",
              "      \n",
              "  <style>\n",
              "    .colab-df-container {\n",
              "      display:flex;\n",
              "      flex-wrap:wrap;\n",
              "      gap: 12px;\n",
              "    }\n",
              "\n",
              "    .colab-df-convert {\n",
              "      background-color: #E8F0FE;\n",
              "      border: none;\n",
              "      border-radius: 50%;\n",
              "      cursor: pointer;\n",
              "      display: none;\n",
              "      fill: #1967D2;\n",
              "      height: 32px;\n",
              "      padding: 0 0 0 0;\n",
              "      width: 32px;\n",
              "    }\n",
              "\n",
              "    .colab-df-convert:hover {\n",
              "      background-color: #E2EBFA;\n",
              "      box-shadow: 0px 1px 2px rgba(60, 64, 67, 0.3), 0px 1px 3px 1px rgba(60, 64, 67, 0.15);\n",
              "      fill: #174EA6;\n",
              "    }\n",
              "\n",
              "    [theme=dark] .colab-df-convert {\n",
              "      background-color: #3B4455;\n",
              "      fill: #D2E3FC;\n",
              "    }\n",
              "\n",
              "    [theme=dark] .colab-df-convert:hover {\n",
              "      background-color: #434B5C;\n",
              "      box-shadow: 0px 1px 3px 1px rgba(0, 0, 0, 0.15);\n",
              "      filter: drop-shadow(0px 1px 2px rgba(0, 0, 0, 0.3));\n",
              "      fill: #FFFFFF;\n",
              "    }\n",
              "  </style>\n",
              "\n",
              "      <script>\n",
              "        const buttonEl =\n",
              "          document.querySelector('#df-85c76641-ecab-4ec7-b3ff-fffb176b73dd button.colab-df-convert');\n",
              "        buttonEl.style.display =\n",
              "          google.colab.kernel.accessAllowed ? 'block' : 'none';\n",
              "\n",
              "        async function convertToInteractive(key) {\n",
              "          const element = document.querySelector('#df-85c76641-ecab-4ec7-b3ff-fffb176b73dd');\n",
              "          const dataTable =\n",
              "            await google.colab.kernel.invokeFunction('convertToInteractive',\n",
              "                                                     [key], {});\n",
              "          if (!dataTable) return;\n",
              "\n",
              "          const docLinkHtml = 'Like what you see? Visit the ' +\n",
              "            '<a target=\"_blank\" href=https://colab.research.google.com/notebooks/data_table.ipynb>data table notebook</a>'\n",
              "            + ' to learn more about interactive tables.';\n",
              "          element.innerHTML = '';\n",
              "          dataTable['output_type'] = 'display_data';\n",
              "          await google.colab.output.renderOutput(dataTable, element);\n",
              "          const docLink = document.createElement('div');\n",
              "          docLink.innerHTML = docLinkHtml;\n",
              "          element.appendChild(docLink);\n",
              "        }\n",
              "      </script>\n",
              "    </div>\n",
              "  </div>\n",
              "  "
            ]
          },
          "metadata": {},
          "execution_count": 4
        }
      ],
      "source": [
        "data = pd.read_csv(\"/content/drive/MyDrive/Colab Notebooks/data/prediction.csv\", sep = \",\")\n",
        "data['Primary_sales'] = data['Primary_sales'].fillna(0)\n",
        "data"
      ]
    },
    {
      "cell_type": "code",
      "execution_count": 5,
      "id": "93b81f19",
      "metadata": {
        "id": "93b81f19",
        "outputId": "f2040875-5f2d-4644-9cdd-75400765a72a",
        "colab": {
          "base_uri": "https://localhost:8080/",
          "height": 295
        }
      },
      "outputs": [
        {
          "output_type": "display_data",
          "data": {
            "text/plain": [
              "<Figure size 432x288 with 1 Axes>"
            ],
            "image/png": "[encoded data removed]"
          },
          "metadata": {
            "needs_background": "light"
          }
        }
      ],
      "source": [
        "plt.scatter(data.Number_of_sales, data.Sales_USD)\n",
        "plt.xlabel(\"Number of Sales\")\n",
        "plt.ylabel(\"Sales in USD\")\n",
        "plt.title(\"Relationship between number of sales and total sales\")\n",
        "plt.show()"
      ]
    },
    {
      "cell_type": "code",
      "execution_count": 10,
      "id": "70d5a762",
      "metadata": {
        "id": "70d5a762",
        "outputId": "a172d540-cd6d-401a-95b2-ee09c0f52eb9",
        "colab": {
          "base_uri": "https://localhost:8080/",
          "height": 295
        }
      },
      "outputs": [
        {
          "output_type": "display_data",
          "data": {
            "text/plain": [
              "<Figure size 432x288 with 1 Axes>"
            ],
            "image/png": "[encoded data removed]"
          },
          "metadata": {
            "needs_background": "light"
          }
        }
      ],
      "source": [
        "plt.scatter(data.Active_markets_wallets, data.Sales_USD)\n",
        "plt.xlabel(\"Active Market Wallets\")\n",
        "plt.ylabel(\"Sales in USD\")\n",
        "plt.title(\"Relationship between Active Market Wallets and total sales\")\n",
        "plt.show()"
      ]
    },
    {
      "cell_type": "code",
      "execution_count": null,
      "id": "16af6b3b",
      "metadata": {
        "id": "16af6b3b",
        "outputId": "d4f4bb02-3104-48e2-8f85-b5b477095432"
      },
      "outputs": [
        {
          "data": {
            "image/png": "[encoded data removed]",
            "text/plain": [
              "<Figure size 432x288 with 1 Axes>"
            ]
          },
          "metadata": {
            "needs_background": "light"
          },
          "output_type": "display_data"
        }
      ],
      "source": [
        "plt.scatter(data.ETH_high_price, data.Sales_USD)\n",
        "plt.xlabel(\"ETH_high_price\")\n",
        "plt.ylabel(\"Sales in USD\")\n",
        "plt.title(\"Relationship between ETH_high_price and total sales\")\n",
        "plt.show()"
      ]
    },
    {
      "cell_type": "code",
      "execution_count": null,
      "id": "0310e84d",
      "metadata": {
        "id": "0310e84d",
        "outputId": "fbf1000e-b747-412b-c224-812e1d76805e"
      },
      "outputs": [
        {
          "data": {
            "image/png": "[encoded data removed]",
            "text/plain": [
              "<Figure size 432x288 with 1 Axes>"
            ]
          },
          "metadata": {
            "needs_background": "light"
          },
          "output_type": "display_data"
        }
      ],
      "source": [
        "plt.hist(data.Sales_USD,bins=10)\n",
        "plt.title(\"Sales_USD\")\n",
        "plt.xlabel(\"Sales_USD\")\n",
        "plt.ylabel(\"Frequency\")\n",
        "plt.show()"
      ]
    },
    {
      "cell_type": "code",
      "execution_count": null,
      "id": "bb1a635e",
      "metadata": {
        "id": "bb1a635e"
      },
      "outputs": [],
      "source": [
        "from sklearn.linear_model import LinearRegression"
      ]
    },
    {
      "cell_type": "code",
      "execution_count": 19,
      "id": "2e8afc07",
      "metadata": {
        "id": "2e8afc07",
        "outputId": "5bded13e-7071-4bf4-bb20-b0e8f8a7cea0",
        "colab": {
          "base_uri": "https://localhost:8080/"
        }
      },
      "outputs": [
        {
          "output_type": "stream",
          "name": "stdout",
          "text": [
            "Estimated intercept coefficient: 514.1147184738213\n"
          ]
        }
      ],
      "source": [
        "# using the columns without Sales_USD to train the data\n",
        "data.fillna(0)\n",
        "X = data.drop(['Date', 'Sales_USD', 'Unnamed: 0'], axis = 1)\n",
        "\n",
        "# This creates a LinearRegression object\n",
        "lm = LinearRegression()\n",
        "lm.fit(X, data.Sales_USD)\n",
        "print('Estimated intercept coefficient:', lm.intercept_)"
      ]
    },
    {
      "cell_type": "code",
      "source": [
        "pd.DataFrame({'featues':X.columns, 'estimatedCoefficients':lm.coef_})"
      ],
      "metadata": {
        "colab": {
          "base_uri": "https://localhost:8080/",
          "height": 175
        },
        "id": "gOWCIP6Hjhis",
        "outputId": "d20a221f-bf7d-493e-ddad-e57df28b3acb"
      },
      "id": "gOWCIP6Hjhis",
      "execution_count": 20,
      "outputs": [
        {
          "output_type": "execute_result",
          "data": {
            "text/plain": [
              "                  featues  estimatedCoefficients\n",
              "0         Number_of_sales               0.000016\n",
              "1  Active_markets_wallets              -0.008784\n",
              "2           Primary_sales               0.237538\n",
              "3          ETH_high_price               0.034243"
            ],
            "text/html": [
              "\n",
              "  <div id=\"df-f4971394-90b2-4636-a204-a5ac576dff80\">\n",
              "    <div class=\"colab-df-container\">\n",
              "      <div>\n",
              "<style scoped>\n",
              "    .dataframe tbody tr th:only-of-type {\n",
              "        vertical-align: middle;\n",
              "    }\n",
              "\n",
              "    .dataframe tbody tr th {\n",
              "        vertical-align: top;\n",
              "    }\n",
              "\n",
              "    .dataframe thead th {\n",
              "        text-align: right;\n",
              "    }\n",
              "</style>\n",
              "<table border=\"1\" class=\"dataframe\">\n",
              "  <thead>\n",
              "    <tr style=\"text-align: right;\">\n",
              "      <th></th>\n",
              "      <th>featues</th>\n",
              "      <th>estimatedCoefficients</th>\n",
              "    </tr>\n",
              "  </thead>\n",
              "  <tbody>\n",
              "    <tr>\n",
              "      <th>0</th>\n",
              "      <td>Number_of_sales</td>\n",
              "      <td>0.000016</td>\n",
              "    </tr>\n",
              "    <tr>\n",
              "      <th>1</th>\n",
              "      <td>Active_markets_wallets</td>\n",
              "      <td>-0.008784</td>\n",
              "    </tr>\n",
              "    <tr>\n",
              "      <th>2</th>\n",
              "      <td>Primary_sales</td>\n",
              "      <td>0.237538</td>\n",
              "    </tr>\n",
              "    <tr>\n",
              "      <th>3</th>\n",
              "      <td>ETH_high_price</td>\n",
              "      <td>0.034243</td>\n",
              "    </tr>\n",
              "  </tbody>\n",
              "</table>\n",
              "</div>\n",
              "      <button class=\"colab-df-convert\" onclick=\"convertToInteractive('df-f4971394-90b2-4636-a204-a5ac576dff80')\"\n",
              "              title=\"Convert this dataframe to an interactive table.\"\n",
              "              style=\"display:none;\">\n",
              "        \n",
              "  <svg xmlns=\"http://www.w3.org/2000/svg\" height=\"24px\"viewBox=\"0 0 24 24\"\n",
              "       width=\"24px\">\n",
              "    <path d=\"M0 0h24v24H0V0z\" fill=\"none\"/>\n",
              "    <path d=\"M18.56 5.44l.94 2.06.94-2.06 2.06-.94-2.06-.94-.94-2.06-.94 2.06-2.06.94zm-11 1L8.5 8.5l.94-2.06 2.06-.94-2.06-.94L8.5 2.5l-.94 2.06-2.06.94zm10 10l.94 2.06.94-2.06 2.06-.94-2.06-.94-.94-2.06-.94 2.06-2.06.94z\"/><path d=\"M17.41 7.96l-1.37-1.37c-.4-.4-.92-.59-1.43-.59-.52 0-1.04.2-1.43.59L10.3 9.45l-7.72 7.72c-.78.78-.78 2.05 0 2.83L4 21.41c.39.39.9.59 1.41.59.51 0 1.02-.2 1.41-.59l7.78-7.78 2.81-2.81c.8-.78.8-2.07 0-2.86zM5.41 20L4 18.59l7.72-7.72 1.47 1.35L5.41 20z\"/>\n",
              "  </svg>\n",
              "      </button>\n",
              "      \n",
              "  <style>\n",
              "    .colab-df-container {\n",
              "      display:flex;\n",
              "      flex-wrap:wrap;\n",
              "      gap: 12px;\n",
              "    }\n",
              "\n",
              "    .colab-df-convert {\n",
              "      background-color: #E8F0FE;\n",
              "      border: none;\n",
              "      border-radius: 50%;\n",
              "      cursor: pointer;\n",
              "      display: none;\n",
              "      fill: #1967D2;\n",
              "      height: 32px;\n",
              "      padding: 0 0 0 0;\n",
              "      width: 32px;\n",
              "    }\n",
              "\n",
              "    .colab-df-convert:hover {\n",
              "      background-color: #E2EBFA;\n",
              "      box-shadow: 0px 1px 2px rgba(60, 64, 67, 0.3), 0px 1px 3px 1px rgba(60, 64, 67, 0.15);\n",
              "      fill: #174EA6;\n",
              "    }\n",
              "\n",
              "    [theme=dark] .colab-df-convert {\n",
              "      background-color: #3B4455;\n",
              "      fill: #D2E3FC;\n",
              "    }\n",
              "\n",
              "    [theme=dark] .colab-df-convert:hover {\n",
              "      background-color: #434B5C;\n",
              "      box-shadow: 0px 1px 3px 1px rgba(0, 0, 0, 0.15);\n",
              "      filter: drop-shadow(0px 1px 2px rgba(0, 0, 0, 0.3));\n",
              "      fill: #FFFFFF;\n",
              "    }\n",
              "  </style>\n",
              "\n",
              "      <script>\n",
              "        const buttonEl =\n",
              "          document.querySelector('#df-f4971394-90b2-4636-a204-a5ac576dff80 button.colab-df-convert');\n",
              "        buttonEl.style.display =\n",
              "          google.colab.kernel.accessAllowed ? 'block' : 'none';\n",
              "\n",
              "        async function convertToInteractive(key) {\n",
              "          const element = document.querySelector('#df-f4971394-90b2-4636-a204-a5ac576dff80');\n",
              "          const dataTable =\n",
              "            await google.colab.kernel.invokeFunction('convertToInteractive',\n",
              "                                                     [key], {});\n",
              "          if (!dataTable) return;\n",
              "\n",
              "          const docLinkHtml = 'Like what you see? Visit the ' +\n",
              "            '<a target=\"_blank\" href=https://colab.research.google.com/notebooks/data_table.ipynb>data table notebook</a>'\n",
              "            + ' to learn more about interactive tables.';\n",
              "          element.innerHTML = '';\n",
              "          dataTable['output_type'] = 'display_data';\n",
              "          await google.colab.output.renderOutput(dataTable, element);\n",
              "          const docLink = document.createElement('div');\n",
              "          docLink.innerHTML = docLinkHtml;\n",
              "          element.appendChild(docLink);\n",
              "        }\n",
              "      </script>\n",
              "    </div>\n",
              "  </div>\n",
              "  "
            ]
          },
          "metadata": {},
          "execution_count": 20
        }
      ]
    },
    {
      "cell_type": "code",
      "execution_count": 21,
      "id": "437fad24",
      "metadata": {
        "id": "437fad24",
        "colab": {
          "base_uri": "https://localhost:8080/",
          "height": 318
        },
        "outputId": "45b06f18-93bb-4281-f009-f6f37e223363"
      },
      "outputs": [
        {
          "output_type": "execute_result",
          "data": {
            "text/plain": [
              "Text(0, 0.5, 'Frequency')"
            ]
          },
          "metadata": {},
          "execution_count": 21
        },
        {
          "output_type": "display_data",
          "data": {
            "text/plain": [
              "<Figure size 432x288 with 1 Axes>"
            ],
            "image/png": "[encoded data removed]"
          },
          "metadata": {
            "needs_background": "light"
          }
        }
      ],
      "source": [
        "plt.hist(lm.predict(X),bins=100)\n",
        "plt.title('Predicted Sales in USD (fitted values): $\\hat{Y}_i$')\n",
        "plt.xlabel('Sales in USD')\n",
        "plt.ylabel('Frequency')"
      ]
    },
    {
      "cell_type": "code",
      "source": [
        "plt.scatter(data.Sales_USD, lm.predict(X))\n",
        "plt.xlabel(\"Sales in USD: $Y_i$\")\n",
        "plt.ylabel(\"Predicted Sales in USD : $\\hat{Y}_i$\")\n",
        "plt.title(\"Sales vs Predicted Sales: $Y_i$ vs $\\hat{Y}_i$\")"
      ],
      "metadata": {
        "colab": {
          "base_uri": "https://localhost:8080/",
          "height": 322
        },
        "id": "-HcJila7kCOy",
        "outputId": "fd1f6e09-85e4-4e66-9798-915d6625f68e"
      },
      "id": "-HcJila7kCOy",
      "execution_count": 22,
      "outputs": [
        {
          "output_type": "execute_result",
          "data": {
            "text/plain": [
              "Text(0.5, 1.0, 'Sales vs Predicted Sales: $Y_i$ vs $\\\\hat{Y}_i$')"
            ]
          },
          "metadata": {},
          "execution_count": 22
        },
        {
          "output_type": "display_data",
          "data": {
            "text/plain": [
              "<Figure size 432x288 with 1 Axes>"
            ],
            "image/png": "[encoded data removed]"
          },
          "metadata": {
            "needs_background": "light"
          }
        }
      ]
    },
    {
      "cell_type": "code",
      "source": [
        "sse = np.sum((data.Sales_USD - lm.predict(X)) ** 2)\n",
        "sse"
      ],
      "metadata": {
        "colab": {
          "base_uri": "https://localhost:8080/"
        },
        "id": "lr_Y-B3QkZUY",
        "outputId": "318431c3-0cae-4077-ee36-0fc040200f36"
      },
      "id": "lr_Y-B3QkZUY",
      "execution_count": 23,
      "outputs": [
        {
          "output_type": "execute_result",
          "data": {
            "text/plain": [
              "844179770.3749282"
            ]
          },
          "metadata": {},
          "execution_count": 23
        }
      ]
    },
    {
      "cell_type": "code",
      "source": [
        "mse = np.mean((data.Sales_USD - lm.predict(X)) ** 2)\n",
        "mse"
      ],
      "metadata": {
        "colab": {
          "base_uri": "https://localhost:8080/"
        },
        "id": "8mdWMzt8kgLx",
        "outputId": "439ae671-3539-4de7-8715-e32eef227d53"
      },
      "id": "8mdWMzt8kgLx",
      "execution_count": 25,
      "outputs": [
        {
          "output_type": "execute_result",
          "data": {
            "text/plain": [
              "575838.8611015881"
            ]
          },
          "metadata": {},
          "execution_count": 25
        }
      ]
    },
    {
      "cell_type": "code",
      "source": [
        "from sklearn.model_selection import train_test_split\n",
        "\n",
        "X_train, X_test, Y_train, Y_test = train_test_split(X, data.Sales_USD, test_size=0.33, random_state = 5)\n",
        "print(X_train.shape)\n",
        "print(X_test.shape)\n",
        "print(Y_train.shape)\n",
        "print(Y_test.shape)"
      ],
      "metadata": {
        "colab": {
          "base_uri": "https://localhost:8080/"
        },
        "id": "eB3lO6TBku-5",
        "outputId": "460e068a-db77-4e33-efbb-5a5b4cffcaa7"
      },
      "id": "eB3lO6TBku-5",
      "execution_count": 26,
      "outputs": [
        {
          "output_type": "stream",
          "name": "stdout",
          "text": [
            "(982, 4)\n",
            "(484, 4)\n",
            "(982,)\n",
            "(484,)\n"
          ]
        }
      ]
    },
    {
      "cell_type": "code",
      "source": [
        "lm = LinearRegression()\n",
        "lm.fit(X_train, Y_train)\n",
        "pred_train = lm.predict(X_train)\n",
        "pred_test = lm.predict(X_test)"
      ],
      "metadata": {
        "id": "bybSZZIuk18H"
      },
      "id": "bybSZZIuk18H",
      "execution_count": 27,
      "outputs": []
    },
    {
      "cell_type": "code",
      "source": [
        "print(\"Fit a model X_train, and calculate MSE with Y_train:\", np.mean((Y_train - lm.predict(X_train)) ** 2))\n",
        "print(\"Fit a model X_train, and calculate MSE with X_test, Y_test:\", np.mean((Y_test - lm.predict(X_test)) ** 2))"
      ],
      "metadata": {
        "colab": {
          "base_uri": "https://localhost:8080/"
        },
        "id": "5y0ckUfck4rF",
        "outputId": "5d6e9d30-ba9d-4396-9458-a6d960bd45dc"
      },
      "id": "5y0ckUfck4rF",
      "execution_count": 28,
      "outputs": [
        {
          "output_type": "stream",
          "name": "stdout",
          "text": [
            "Fit a model X_train, and calculate MSE with Y_train: 527731.730402436\n",
            "Fit a model X_train, and calculate MSE with X_test, Y_test: 930845.2619910439\n"
          ]
        }
      ]
    },
    {
      "cell_type": "code",
      "source": [
        "import sklearn.metrics as sm\n",
        "print(\"Mean absolute error =\", round(sm.mean_absolute_error(Y_test, lm.predict(X_test)), 2)) \n",
        "print(\"Mean squared error =\", round(sm.mean_squared_error(Y_test, lm.predict(X_test)), 2)) \n",
        "print(\"Median absolute error =\", round(sm.median_absolute_error(Y_test, lm.predict(X_test)), 2)) \n",
        "print(\"Explain variance score =\", round(sm.explained_variance_score(Y_test, lm.predict(X_test)), 2)) \n",
        "print(\"R2 score =\", round(sm.r2_score(Y_test, lm.predict(X_test)), 2))"
      ],
      "metadata": {
        "colab": {
          "base_uri": "https://localhost:8080/"
        },
        "id": "y2Gp77ULmWt9",
        "outputId": "c1054cda-d27f-4e12-980f-89b44c4d9fd3"
      },
      "id": "y2Gp77ULmWt9",
      "execution_count": 30,
      "outputs": [
        {
          "output_type": "stream",
          "name": "stdout",
          "text": [
            "Mean absolute error = 561.59\n",
            "Mean squared error = 930845.26\n",
            "Median absolute error = 377.15\n",
            "Explain variance score = 0.32\n",
            "R2 score = 0.32\n"
          ]
        }
      ]
    },
    {
      "cell_type": "code",
      "source": [
        "plt.scatter(Y_test, lm.predict(X_test))\n",
        "plt.xlabel(\"Actual Sales in USD: $Y_i$\")\n",
        "plt.ylabel(\"Predicted Sales in USD : $\\hat{Y}_i$\")\n",
        "plt.title(\"Sales vs Predicted Sales: $Y_i$ vs $\\hat{Y}_i$\")"
      ],
      "metadata": {
        "colab": {
          "base_uri": "https://localhost:8080/",
          "height": 322
        },
        "id": "jvSd9SWylFjT",
        "outputId": "48711f47-0a65-4b59-d8c0-4e8230577a42"
      },
      "id": "jvSd9SWylFjT",
      "execution_count": 32,
      "outputs": [
        {
          "output_type": "execute_result",
          "data": {
            "text/plain": [
              "Text(0.5, 1.0, 'Sales vs Predicted Sales: $Y_i$ vs $\\\\hat{Y}_i$')"
            ]
          },
          "metadata": {},
          "execution_count": 32
        },
        {
          "output_type": "display_data",
          "data": {
            "text/plain": [
              "<Figure size 432x288 with 1 Axes>"
            ],
            "image/png": "[encoded data removed]"
          },
          "metadata": {
            "needs_background": "light"
          }
        }
      ]
    }
  ],
  "metadata": {
    "kernelspec": {
      "display_name": "Python 3 (ipykernel)",
      "language": "python",
      "name": "python3"
    },
    "language_info": {
      "codemirror_mode": {
        "name": "ipython",
        "version": 3
      },
      "file_extension": ".py",
      "mimetype": "text/x-python",
      "name": "python",
      "nbconvert_exporter": "python",
      "pygments_lexer": "ipython3",
      "version": "3.9.7"
    },
    "colab": {
      "provenance": []
    }
  },
  "nbformat": 4,
  "nbformat_minor": 5
}